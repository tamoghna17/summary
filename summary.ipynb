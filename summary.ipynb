{
  "cells": [
    {
      "cell_type": "code",
      "execution_count": null,
      "metadata": {
        "colab": {
          "base_uri": "https://localhost:8080/"
        },
        "id": "3kpgTpmuPz5z",
        "outputId": "c04fa9c4-46f8-4cbb-eb5a-a7b7548461cd"
      },
      "outputs": [
        {
          "output_type": "stream",
          "name": "stdout",
          "text": [
            "Requirement already satisfied: transformers in /usr/local/lib/python3.10/dist-packages (4.41.2)\n",
            "Requirement already satisfied: filelock in /usr/local/lib/python3.10/dist-packages (from transformers) (3.14.0)\n",
            "Requirement already satisfied: huggingface-hub<1.0,>=0.23.0 in /usr/local/lib/python3.10/dist-packages (from transformers) (0.23.3)\n",
            "Requirement already satisfied: numpy>=1.17 in /usr/local/lib/python3.10/dist-packages (from transformers) (1.25.2)\n",
            "Requirement already satisfied: packaging>=20.0 in /usr/local/lib/python3.10/dist-packages (from transformers) (24.1)\n",
            "Requirement already satisfied: pyyaml>=5.1 in /usr/local/lib/python3.10/dist-packages (from transformers) (6.0.1)\n",
            "Requirement already satisfied: regex!=2019.12.17 in /usr/local/lib/python3.10/dist-packages (from transformers) (2024.5.15)\n",
            "Requirement already satisfied: requests in /usr/local/lib/python3.10/dist-packages (from transformers) (2.31.0)\n",
            "Requirement already satisfied: tokenizers<0.20,>=0.19 in /usr/local/lib/python3.10/dist-packages (from transformers) (0.19.1)\n",
            "Requirement already satisfied: safetensors>=0.4.1 in /usr/local/lib/python3.10/dist-packages (from transformers) (0.4.3)\n",
            "Requirement already satisfied: tqdm>=4.27 in /usr/local/lib/python3.10/dist-packages (from transformers) (4.66.4)\n",
            "Requirement already satisfied: fsspec>=2023.5.0 in /usr/local/lib/python3.10/dist-packages (from huggingface-hub<1.0,>=0.23.0->transformers) (2023.6.0)\n",
            "Requirement already satisfied: typing-extensions>=3.7.4.3 in /usr/local/lib/python3.10/dist-packages (from huggingface-hub<1.0,>=0.23.0->transformers) (4.12.2)\n",
            "Requirement already satisfied: charset-normalizer<4,>=2 in /usr/local/lib/python3.10/dist-packages (from requests->transformers) (3.3.2)\n",
            "Requirement already satisfied: idna<4,>=2.5 in /usr/local/lib/python3.10/dist-packages (from requests->transformers) (3.7)\n",
            "Requirement already satisfied: urllib3<3,>=1.21.1 in /usr/local/lib/python3.10/dist-packages (from requests->transformers) (2.0.7)\n",
            "Requirement already satisfied: certifi>=2017.4.17 in /usr/local/lib/python3.10/dist-packages (from requests->transformers) (2024.6.2)\n",
            "Mounted at /content/drive\n"
          ]
        }
      ],
      "source": [
        "!pip install transformers\n",
        "import os\n",
        "import torch\n",
        "from transformers import BertTokenizer , BertModel\n",
        "import numpy as np\n",
        "import glob\n",
        "import pickle as pkl\n",
        "from google.colab import drive\n",
        "drive.mount('/content/drive')"
      ]
    },
    {
      "cell_type": "code",
      "execution_count": null,
      "metadata": {
        "id": "p75ykZXbQW10",
        "colab": {
          "base_uri": "https://localhost:8080/"
        },
        "outputId": "00ca3f11-cf96-476a-cb4a-d2b451223599"
      },
      "outputs": [
        {
          "output_type": "stream",
          "name": "stdout",
          "text": [
            "['AW_BC_text_09.txt', 'JB_KGRC_text_14.txt', 'JY_GD_text_10.txt', 'JL_IHM_text_22.txt', 'LCK_SY_text_03.txt', 'LCK_SY_text_04.txt', 'LCK_SY_text_17.txt', 'RP_DP_text_19.txt', 'TS_D_text_05.txt', 'TN_AD_text_01.txt', 'SM_IGT_text_14.txt']\n"
          ]
        }
      ],
      "source": [
        "dataset_path=\"/content/drive/MyDrive/funny_text\"\n",
        "#List files in the dataset folder\n",
        "files=os.listdir(dataset_path)\n",
        "print(files)\n",
        "# print(type(files))"
      ]
    },
    {
      "cell_type": "code",
      "execution_count": null,
      "metadata": {
        "id": "qVQHj45dTACe"
      },
      "outputs": [],
      "source": [
        "data=[]\n",
        "#read content of the files\n",
        "for file in files:\n",
        "  file_path=os.path.join(dataset_path,file)\n",
        "  with open(file_path,'r',encoding='utf-8') as f:\n",
        "    content=f.read()\n",
        "    data.append(content)\n",
        "\n"
      ]
    },
    {
      "cell_type": "code",
      "execution_count": null,
      "metadata": {
        "id": "lnOzb4YeTJ1F"
      },
      "outputs": [],
      "source": [
        "# for i in range(10):\n",
        "#   print(data[i][:1000])\n",
        "#   print('\\n')"
      ]
    },
    {
      "cell_type": "code",
      "source": [
        "type(data)"
      ],
      "metadata": {
        "colab": {
          "base_uri": "https://localhost:8080/"
        },
        "id": "89XRspij3bgm",
        "outputId": "17ee6ef7-f62e-4d14-ab6f-e30438b83450"
      },
      "execution_count": null,
      "outputs": [
        {
          "output_type": "execute_result",
          "data": {
            "text/plain": [
              "list"
            ]
          },
          "metadata": {},
          "execution_count": 15
        }
      ]
    },
    {
      "cell_type": "code",
      "execution_count": null,
      "metadata": {
        "id": "g-OplmtYVf0g",
        "colab": {
          "base_uri": "https://localhost:8080/"
        },
        "outputId": "2e3768bc-21c3-437d-d981-53b4803c5dc7"
      },
      "outputs": [
        {
          "output_type": "stream",
          "name": "stdout",
          "text": [
            "I don’t know why people don’t go for them. They’re the sexiest. Asian men are the sexiest. They got \n",
            "\n",
            "\n",
            "Strange, the passage of time. I’m not that old. I’m 35, that is not old. But I am in a new phase rig\n",
            "\n",
            "\n",
            "I know I’m becoming an adult finally, because now my favorite TV show is Fixer Upper on HGTV. That’s\n",
            "\n",
            "\n",
            "He was like, “What is wrong with you?” I’m like, “I don’t know what’s wrong with her? “That’s the re\n",
            "\n",
            "\n",
            "I have this friend, she’s the best person I know, but I sometimes want to punch her in the face beca\n",
            "\n",
            "\n",
            "If you don’t believe in God, you better fucking hope — you better get on your knees and pray. Please\n",
            "\n",
            "\n",
            "So he started to act, and he had a movie on TV called “Normal People,” where he played a retarded ma\n",
            "\n",
            "\n",
            "My girlfriend’s Mexican. And I didn’t realize how Mexican she was until she went into labor and they\n",
            "\n",
            "\n",
            "So… You might be sitting in your seat now, going, “Tom, what can we still say?[audience laughs]What \n",
            "\n",
            "\n",
            "That was all I thought New York was before I came here. I just thought it was a city of people almos\n",
            "\n",
            "\n",
            "I’m a pretty liberal guy, but some of my friends now are so liberal that everything turns into slave\n",
            "\n",
            "\n"
          ]
        }
      ],
      "source": [
        "for i in range(len(data)):\n",
        "  print(data[i][:100])\n",
        "  print('\\n')"
      ]
    },
    {
      "cell_type": "code",
      "source": [
        "text=\" \".join(str(x) for x in data)"
      ],
      "metadata": {
        "id": "4lOyfvmm35W4"
      },
      "execution_count": null,
      "outputs": []
    },
    {
      "cell_type": "code",
      "source": [
        "text"
      ],
      "metadata": {
        "colab": {
          "base_uri": "https://localhost:8080/",
          "height": 162
        },
        "id": "SmZQO6bd4L9d",
        "outputId": "d9aeb321-8899-4ffb-dcd7-c9574f0f220b"
      },
      "execution_count": null,
      "outputs": [
        {
          "output_type": "execute_result",
          "data": {
            "text/plain": [
              "'I don’t know why people don’t go for them. They’re the sexiest. Asian men are the sexiest. They got no body hair from the neck down. It’s like making love to a dolphin. Oh, my God. It’s so smooth, just like a slip and slide. Just black fish, Tilikum, all up in my bed every night, you know? Ooh-wee. You mess with a Jewish dude and your body is all fucked up afterwards. It’s all red and inflamed and you’re like, “I did not ask to be exfoliated today.” “This is the last time I go on J-date, more like loofah date. Thanks for the rug burn, Avi.” And then Asian men, no body odor. None. They just smell like responsibility. That’s where the umami flavor comes from. Strange, the passage of time. I’m not that old. I’m 35, that is not old. But I am in a new phase right before old called “gross.”I never knew about this, but I am now gross. I am damp all the time. I am damp now and I will be damp later. [chuckles] Like the back of a dolphin, my back. I am slick. The butt part of my pants is a little damp a lot and I don’t think it’s anything serious… but isn’t it, though? And… I’ll be sitting at a restaurant and I’ll get up and I’ll be like, “What did I sit in?” And it was me. I’m gross now. I’ve been talking through burps. I never used to do this. When I was a kid and I wanted to burp, I’d be like, “Silence!” Blagh! Now I’m trying to push ’em down and muscle through ’em. I’ll be at dinner, just doing the bread and the seltzer, filling up like a hot air balloon, and then I’m like… [belches] “Did you say you were going to Italy? Because we have a travel– She has a travel agent if– [exhales] I’m going to the kitchen, does anyone need anything? From the… [belches] Anyone need anything?” Just take a pause, John! I’m gross. I have hair on my shoulders now. I don’t even have a joke for that. That’s how much I hate that shit.\\n\\n I know I’m becoming an adult finally, because now my favorite TV show is Fixer Upper on HGTV. That’s the greatest show of all time. You guys watch it, Chip and Joanna Gaines, Fixer Upper? It’s a great show, right? It’s a great show. Like, it’s really a beautiful relationship. Joanna does all the interior decorating, and she brings in all the furniture and makes the house look amazing. And Chip just hires Mexicans to do everything for him. It’s the most symbiotic American relationship ever.And it’s a really nice show. It’s a feel-good show. It’s an aspiring show. You watch the show and you’re like, man, one day, maybe my house could look that nice– if I moved to Waco, Texas. If I just give up on my life and move to Waco, Texas, maybe I can have a new open concept kitchen.I don’t know about you guys. Shit is expensive where I live in LA. And I watch this show and I just get frustrated. Because you get, like, these like, entry-level-job-having people in Texas. And they’re like, Joanna, we’re looking for a six bedroom house on three acres of land and our budget’s $50,000. Bitch, I can’t even buy a crack house in Compton for $50,000. He was like, “What is wrong with you?” I’m like, “I don’t know what’s wrong with her? “That’s the real question. “You raised this weirdo. “I’m trying to stay sexually relevant. “I would love an ice cream. “But that’s not what she’s into, “so sit down you son of a bitch.” Didn’t turn her on at all, by the way. It turned her mother on. She loved it. She was like, “Yeah, give it to him. “I hate this dip shit.” I think I have a chance with her mother, we’ll see, feels inappropriate. You gotta spice it up, though. We’ve been together a long time, you know? Sex, you gotta mix it up. I’ll tell you what I like. I like shoes in bed, that’s my thing, anybody? I’m talking like high heels, not New Balance or Asics. They gotta be something nice. I like shoes in bed because they don’t belong in bed. It’s like a threesome, like “You shouldn’t be here, “but stick around, I like where this is going, you know?” That’s a sexy look on a woman, by the way, naked with shoes. Not a man. Man, we’re not quite able to pull that look off just yet. If I’m naked wearing shoes, I look like a toddler that ran away from his mother while she was changing him. You ever seen that when someone’s changing the kid and the kid makes a run for it? He’s like, “No.” Tiny dick flipping everywhere. He hides in the curtains. That’s me, you know? I think it’s when a woman is naked wearing shoes, it’s kind of like, she’s like, “I forgot to get dressed.” A man naked with shoes is like, “I forgot to take my medicine. “I don’t know what got into me, I’m sorry.” I like morning sex, that’s my favorite sex, morning sex. First thing, right?\\n\\n[audience member screams]\\n\\nYeah, there you go. I love it, my wife doesn’t like it. I’m like, “Let’s have some morning sex.” She’s like, “No, I want to start my day.” Yeah, I want to start my day also. That’s what I was referring to. Frankly, it’s a little hurtful that you wouldn’t consider that part of your day. Then she’s just eating cereal. I just got cock blocked by Tony the Tiger. It’s not a great feeling. I think the problem with morning sex, morning breath. That’s the main problem. Morning breath I’m pretty sure is how doggy style sex got invented. There was a couple having sex first thing in the morning and then 30 seconds in the woman’s like, “Let’s try this with my face buried in the pillow. “That’ll be better. “We can still do it, I’ll just lift my genitals to you “and hide my nostrils in the linens. “Thank you for making the bed, by the way. “That’s really nice of you.” Thank you guys very much, that’s it.\\n\\n I have this friend, she’s the best person I know, but I sometimes want to punch her in the face because she’s so nice — because I’m not a good person. Like, I’ll tell her something I’m having problems with, and she’ll say, “I’m going to pray on that for you.”I have a feeling when she prays, God’s like, “Ugh! Fuck! This one makes me want to get out of the business.”You guys think there’s a God? How many — How many of you, by applause, believe there is a God. How many people?  All right. About 30 out of 1,400. That’s nice. That’s nice. That shit’s over. It’s just fucking over. You go into a church, it’s like going to a roller skating rink on a Wednesday, it’s like… “This used to be something! What happened?”I don’t know. I don’t think there’s a God. And that’s not a conviction. I just don’t suppose. I just — I just reckon there ain’t. I reckon there ain’t no lord. And because I don’t believe there’s a God, I fucking hope there’s not a God. I fuckin’ hope — Oh, please!  If you don’t believe in God, you better fucking hope — you better get on your knees and pray. Please, God, don’t be. ‘Cause that’s a bad thing to be wrong about. That’s a bad wrong. You’re an atheist your whole life and you die and you’re like, “Aw, fuck! Aw, you’re shitting — with a beard and everything. Fuck! Aww… Hey, I — I dunno… Yeah, yeah, I’m going. Yep.”Being wrong the other way is not a big problem. If you believe in God and you’re wrong, you don’t really have a problem. It gives you a little comfort during your stupid life. And then at the end, you’re just seriously disappointed for like a second — it’s the last feeling you get to have. You die, you’re like, “Nothing? Seriously? Nothing?” “Yeah, just get in the Dumpster. Sorry.” “Sorry, you’re just garbage now.” If you don’t believe in God, that’s what you believe — that when you die, you’re just garbage. You are your family’s newest garbage. So he started to act, and he had a movie on TV called “Normal People,” where he played a retarded man who wants to live a normal life — it was very inspiring, actually. And at one point he goes to — he didn’t do, like, a big retarded character. He wore thick glasses, he talked like Elmer Fudd. That was the whole thing. So he goes up to the guy who runs the group home he lives in and he says, “I want to get a job.” And the guys who runs it is like, you know, Republican, conservative. So he’s like, “You can get a job, you’re retarded!” You know. But — but then there’s a liberal lady who works there and she says, “Of course he can get a job. He’s as good as anyone!” So they let him get a job as an air traffic controller or whatever was available. And then… He meets a woman who’s also retarded, who lives at the group home. He falls in love with her. It’s a very nice love story. And he says, “We want to get married.” And the guy says, “Brr!” She says, “But they’re in love!” So they get married. And then one day he says, “We want to have a baby.” And the liberal lady says, “No fucking way.” And they just shut them down right there. And that’s the end of the movie. I swear to God, that’s just how it ends. And the point of the movie is just, you know, hey, there’s a limit — like, that’s, I guess, what the point of it was. And that’s pretty intense. My girlfriend’s Mexican. And I didn’t realize how Mexican she was until she went into labor and they broke her water and candy fell out of her. Do you realize my son is Mexican and Indian? He’s going to be able to engineer the wall.And hop it. He’s going to steal your laptop and fix it. It’s going to be an amazing thing to see. How old are your kids? 22 and 19.RUSSELL PETERS: 22 and 19. Man, you did all this shit young. That’s crazy. I mean, that’s great. I did it way too late. You think about it, I’m 49. When my son starts walking, we’re going to be walking the same way.I waited too long. Do you remember your first pregnancy? You remember it clearly? Do you remember how many months it took you before you started to show? Probably about four to six, maybe? Yeah, it’s usually about that, right? Four to six months on your first pregnancy, the woman starts to show. My girlfriend, she started the show after one month. It was like,. I’m like, what the fuck is going on? How many? How many? How many motherfuckers are in there right now? I took her straight to the doctor. I need to know many heartbeats you hear, doctor. How many heartbeats do you hear? There was just one, but I got so scared. Because twins at this age, fuck that. So… You might be sitting in your seat now, going, “Tom, what can we still say?[audience laughs]What can we say?” I’ll tell you what you can say. White racial slurs. [audience laughs] All of ’em. Let her rip. Cracker, mick, kraut, polack, frog, guinea, wop, honky. Have fun. [audience laughs] Say ’em all you want. And if you’re not white, and you’re going, “Wait, are you saying I can say those?” -That’s exactly what I’m saying. -[audience laughs] Nobody cares. Call up your Italian friend tomorrow and be like, “Hey, you fuckin’ guinea.” [audience laughs] And he’ll go, [laughs] “I don’t care. [audience laughs] I don’t give a shit.” It’s not a historically disenfranchised group.The best slur of all, for me, I think, is honky. And I’ll tell you why. The word honky is hilarious… in and of itself. But for some reason, truly racist white people have latched onto that word. It’s like this great indicator to know if someone’s racist. If they act like that word is offensive, run, okay? [audience laughs] You don’t believe me, watch the news. Next time there’s some racial fight in the news, they’ll find some hillbilly. “What happened?” He’ll be like, “Well, he called me a honky.” [audience laughs] And they’re like, “Did you pass out from laughing hysterically, or what happened next?” He’s like, “No, I stabbed him.” And you’re like, “Oh, shit. That’s fuckin’ crazy.” I’ll pay you to call me a honky. I don’t care. It’s a great word.\\n\\n That was all I thought New York was before I came here. I just thought it was a city of people almost getting run over. Just everyone walking into the street, a taxi rolling up, slamming the hood,\\n\\n[New York accent] “I’m walking over here! What’s wrong with you? You want some coffee?”\\n\\nI don’t even know what that meant. All I knew was one day, I was gonna go to New York City. And I, too, was going to almost get run over by a car. I had a dream and I set out. And it’s a lot harder than it seems. In the movies, they make it look simple. They make it look like you run out, the car almost hits you, you do that thing– “Hey!” Slam the hood and then move on. But it’s not that easy. It’s all about timing. It’s all about timing. It’s all about being precise. You have to get out at the exact same time that the taxi is there, so it stops, so you can hit the hood. If you don’t have the guts and you come out too late, the car’s gone. It’s a waste of everyone’s time. You just look like a mad person now. You’re just like…\\n\\n[imitates engine revving]\\n\\n“Hey! I’m walking over here!” If you come out at the exact time as the car, then you just get run over. That’s just pointless. You know, it’s like, “Hey–” [thumping noises] “Hey, he was walking over here. What’s wrong with you?” The worst one is when you come out too early. Because that’s just awkward for everyone involved. Because you come out and then the car stops, but you can’t reach the hood. So it’s like, “Hey!”\\n\\n[imitates tires screeching]\\n\\n“Come here. No. Come closer, please. I want to tell you a secret. Come here. No, I’m from Africa. I have a dream. Please come closer. I just– I just want you– I’m walking over here.”\\xa0\\n\\n I’m a pretty liberal guy, but some of my friends now are so liberal that everything turns into slavery or the Holocaust in every conversation, you know what I’m talking about? I was talking to my friend the other day, and he goes, “Trump is Hitler.” I said, “All right, look, “we don’t know how hilarious Hitler would have been “on social media. “That’s not fair.” Hitler might have had a strong Twitter presence. Trapped in bunker, sad. (audience laughing) Adolf’s trending.\\n\\nI came across the article the other day on the internet. Just said fun facts about Hitler, which I think is a great title. (audience laughing) I’ve always said there aren’t enough upbeat pieces on the Fuhrer. (audience laughing) Fun fact about Hitler, didn’t pay income tax, was very bad at managing his money, and I thought, man, it’s too bad there wasn’t a group of people that could have helped, you know? (audience laughing) Jews. So…\\n\\nYou know where that joke did not hit? Naples, Florida, okay? (audience laughing) Terrible people. My least favorite city. I’ll never go back. I bombed four straight nights. I got into an argument with an 80-something-year-old man. I had a breakdown on the last show. I finally just said I gotta get out of Naples. He goes, “Well, you’re still here.” I said, “Well, I’ll be out in the morning. “You’ll be in a casket soon.” (audience laughing) And he said, “You’ll have to put me there,” and I said, “That’s not how time works.” (audience laughing) And it kept escalating back and forth. Finally, I hear a voice in the crowd yell out, “Grandpa, enough.” (audience laughing) That’s Naples to me. My dad called me to check in. He said, “How are you?” I said, “I’m in fucking Naples,” and my dad goes, “Italy?” and I was like, “Oh, no. (audience laughing) “These jokes are not taking me abroad, Pops. (audience laughing) “I’m in Florida, the bad part.”\\n\\nTrue story. I’m on stage there. As the start to a bit, I go, “So, I’m a New York Jew,” and someone in the crowd goes, “Ugh, no.” (audience laughing) Not a yes or no question. (audience laughing) It’s my heritage. Also, ugh, that’s our sound. That’s cultural appropriation, okay?'"
            ],
            "application/vnd.google.colaboratory.intrinsic+json": {
              "type": "string"
            }
          },
          "metadata": {},
          "execution_count": 21
        }
      ]
    },
    {
      "cell_type": "code",
      "execution_count": null,
      "metadata": {
        "id": "81jllYltWVPj"
      },
      "outputs": [],
      "source": [
        "# # #tokenizing data\n",
        "# # import nltk\n",
        "# # from nltk.tokenize import word_tokenize\n",
        "# # import tensorflow as tf\n",
        "# # # from tensorflow.keras.preprocessing.text import Tokenizer\n",
        "# # from transformers import GPT2LMHeadModel, GPT2Tokenizer\n",
        "\n",
        "# # # nltk.download('punkt')\n",
        "\n",
        "# # # tokens=word_tokenize(content) #content not data\n",
        "# # # #GPT2Tokenizer to create a vocabulary\n",
        "# # # tokenizer=GPT2Tokenizer()\n",
        "# # # tokenizer.fit_on_texts(tokens)\n",
        "\n",
        "# # # total_words=len(tokenizer.word_index)+1\n",
        "\n",
        "# # tokenizer=GPT2Tokenizer.from_pretrained(\"gpt2\")\n",
        "# # model=GPT2LMHeadModel.from_pretrained(\"gpt2\")\n",
        "\n",
        "# # input_sequences=[]\n",
        "\n",
        "# # max_sequence_length=512\n",
        "\n",
        "# # for i in data:\n",
        "# #   tokenized_text=tokenizer.encode(i,return_tensors=\"pt\",add_special_tokens=False)\n",
        "\n",
        "# #   # input_sequences.append(tokenized_text)\n",
        "# #   while len(i)>max_sequence_length:\n",
        "# #     chunk=i[:max_sequence_length]\n",
        "# #     # tokenized_text=tokenizer.encode(i,return_tensors=\"pt\",add_special_tokens=False)\n",
        "# #     input_sequences.append(chunk)\n",
        "# #     tokenized_text=tokenized_text[max_sequence_length:]\n",
        "\n",
        "# #   input_sequences.append(tokenized_text)\n",
        "\n",
        "# #   # tokenized_content=tokenizer.encode(i,return_tensors=\"pt\",add_special_tokens=False)\n",
        "# #   # input_sequences.append(tokenized_content)\n",
        "\n",
        "\n",
        "# from transformers import GPT2Tokenizer, GPT2LMHeadModel\n",
        "\n",
        "# tokenizer=GPT2Tokenizer.from_pretrained('gpt2')\n",
        "# model=GPT2LMHeadModel.from_pretrained('gpt2')\n",
        "\n",
        "# max_sequence_length=1084\n",
        "# batch_size=8 #adjust batch size based on available memory\n",
        "\n",
        "# input_sequences=[]\n",
        "# batch=[]\n",
        "\n",
        "# for i,text in enumerate(data):\n",
        "#   tokenized_text=tokenizer.encode(text,return_tensors='pt',add_special_tokens='False')\n",
        "\n",
        "#   while(len(tokenized_text)>max_sequence_length):\n",
        "#     chunk=i[:max_sequence_length]\n",
        "#     input_sequences.append(chunk)\n",
        "#     tokenized_text=tokenized_text[max_sequence_length:]\n",
        "\n",
        "#   batch.append(tokenized_text)\n",
        "\n",
        "#   if len(batch)==batch_size or i==len(data)-1:\n",
        "#     input_sequences.extend(data)\n",
        "#     batch=[]\n",
        "\n",
        "\n"
      ]
    },
    {
      "cell_type": "code",
      "execution_count": null,
      "metadata": {
        "id": "Qpe3mCSprX6g"
      },
      "outputs": [],
      "source": [
        "# import torch\n",
        "# # for line in tokens:\n",
        "# #   token_list=tokenizer.texts_to_sequences([line])[0]\n",
        "# #   for i in range(1,len(token_list)):\n",
        "# #     n_grams=token_list[:i+1]\n",
        "# #     input_sequences.append(n_grams)\n",
        "\n",
        "# # for f in files:\n",
        "# #   tokenized_text=tokenizer.encode(content,return_tens)\n",
        "\n",
        "# generated_text=[]\n",
        "# max_new_tokens=100\n",
        "\n",
        "# for tokenized_text in input_sequences:\n",
        "#   input_ids=torch.tensor(tokenizer.convert_tokens_to_ids(tokenized_text)).unsqueeze(0)\n",
        "\n",
        "#   with torch.no_grad():\n",
        "#     output=model.generate(input_ids,max_length=len(tokenized_text)+max_new_tokens,temperature=0.1,pad_token_id=tokenizer.pad_token_id)\n",
        "#   generated_text.append(tokenizer.decode(output[0],skip_special_tokens=True))\n",
        "# # for input_sequence in input_sequences:\n",
        "# #   output=model.generate(input_sequence,max_length=100,num_return_sequences=1,temperature=0.1)\n",
        "# #   generated_text+=generated_text+tokenizer.decode(output[0],skip_special_tokens=True)\n",
        "\n",
        "# # print(generated_text)\n",
        "# for i,text in enumerate(generated_text):\n",
        "#   print(text)"
      ]
    },
    {
      "cell_type": "code",
      "execution_count": null,
      "metadata": {
        "id": "6it60w9mpm5j"
      },
      "outputs": [],
      "source": [
        "# len(generated_text)"
      ]
    },
    {
      "cell_type": "code",
      "execution_count": null,
      "metadata": {
        "id": "Ebntc8FdzbYP"
      },
      "outputs": [],
      "source": [
        "# # Pad sequences for uniform length\n",
        "\n",
        "# from keras.preprocessing.sequence import pad_sequences\n",
        "# from keras.utils import to_categorical\n",
        "\n",
        "# max_sequence_length=max([len(x) for x in input_sequences])\n",
        "# input_sequences=pad_sequences(input_sequences , maxlen=max_sequence_length , padding='pre')\n",
        "\n",
        "# #create predictors and labels\n",
        "# X,y=input_sequences[:,:-1],input_sequences[:,-1]\n",
        "# y=to_categorical(y,num_classes=total_words)"
      ]
    },
    {
      "cell_type": "code",
      "execution_count": null,
      "metadata": {
        "id": "_kXgyt5Y1VvA"
      },
      "outputs": [],
      "source": [
        "# # from keras.models import Sequential\n",
        "# # from keras.layers import Embedding,LSTM,Dense\n",
        "\n",
        "# # model=Sequential()\n",
        "# # model.add(Embedding(total_words,100,input_length=max_sequence_length-1))\n",
        "# # model.add(LSTM(100))\n",
        "# # model.add(Dense(total_words,activation='softmax'))\n",
        "# # model.compile(optimizer='adam',loss='categorical_crossentropy',metrics=['accuracy'])\n",
        "\n",
        "# model_name='gpt2'\n",
        "# model=GPT2LMHeadModel.from_pretrained(model_name)\n",
        "# tokenizer=GPT2Tokenizer.from_pretrained(model_name)\n",
        "\n",
        "# model.eval()\n",
        "\n"
      ]
    },
    {
      "cell_type": "code",
      "execution_count": null,
      "metadata": {
        "id": "rMAolN09CAkt"
      },
      "outputs": [],
      "source": [
        "# model.fit(X,y,epochs=75,verbose=1)\n",
        "\n"
      ]
    },
    {
      "cell_type": "code",
      "execution_count": null,
      "metadata": {
        "id": "0uB9VRdOD26D"
      },
      "outputs": [],
      "source": [
        "# def generate_comedy(seed_text,model,tokenizer,max_sequence_length):\n",
        "\n",
        "#   # for i in range(next_words):\n",
        "#   #   token_list=tokenizer.texts_to_sequences([seed_text])[0]\n",
        "#   #   token_list=pad_sequences([token_list],maxlen=max_sequence_length-1,padding='pre')\n",
        "#   #   predict_probs=model.predict(token_list,verbose=0)\n",
        "#   #   predict_index=np.argmax(predict_probs)\n",
        "#   #   output_word=\"\"\n",
        "#   #   for word,index in tokenizer.word_index.items():\n",
        "#   #     if index==predict_index:\n",
        "#   #       output_word=word\n",
        "#   #       break\n",
        "#   #   seed_text+=\" \" +output_word\n",
        "#   # return seed_text\n",
        "\n",
        "#   input_ids=tokenizer.encode(seed_text,return_tensors='pt')\n",
        "\n",
        "#   #gpt-2 uses GPT-2 uses a technique called \"nucleus sampling\" (top-p sampling) to generate text\n",
        "#   #This technique selects the next word from a truncated probability distribution, excluding words that fall below a certain cumulative probability threshold (top_p)\n",
        "#   #This helps in preventing the model from generating overly verbose or nonsensical responses\n",
        "#   #experiment with the temperature parameter, which controls the randomness of the generated text. Higher values (e.g., 1.0) increase randomness, while lower values\n",
        "#   #(e.g., 0.7) make the output more deterministic.\n",
        "\n",
        "#   output=model.generate(input_ids,max_length=max_sequence_length,num_beams=100,no_repeat_ngram_size=10,top_k=500,top_p=0.05,temperature=100,\n",
        "#                         pad_token_id=tokenizer.eos_token_id,attention_mask=torch.ones(input_ids.shape))\n",
        "\n",
        "#   comedy=tokenizer.decode(output[0],skip_special_tokens=True)\n",
        "\n",
        "#   return comedy\n",
        "\n",
        "\n",
        "# comedy=generate_comedy(\" \",model,tokenizer,500)\n",
        "\n",
        "# print(comedy)"
      ]
    },
    {
      "cell_type": "code",
      "execution_count": null,
      "metadata": {
        "id": "FQX9yxOdYRYV",
        "colab": {
          "base_uri": "https://localhost:8080/"
        },
        "outputId": "477a04d2-666b-4f88-be8b-f5280ef5c078"
      },
      "outputs": [
        {
          "output_type": "stream",
          "name": "stdout",
          "text": [
            "Requirement already satisfied: spacy in /usr/local/lib/python3.10/dist-packages (3.7.5)\n",
            "Requirement already satisfied: spacy-legacy<3.1.0,>=3.0.11 in /usr/local/lib/python3.10/dist-packages (from spacy) (3.0.12)\n",
            "Requirement already satisfied: spacy-loggers<2.0.0,>=1.0.0 in /usr/local/lib/python3.10/dist-packages (from spacy) (1.0.5)\n",
            "Requirement already satisfied: murmurhash<1.1.0,>=0.28.0 in /usr/local/lib/python3.10/dist-packages (from spacy) (1.0.10)\n",
            "Requirement already satisfied: cymem<2.1.0,>=2.0.2 in /usr/local/lib/python3.10/dist-packages (from spacy) (2.0.8)\n",
            "Requirement already satisfied: preshed<3.1.0,>=3.0.2 in /usr/local/lib/python3.10/dist-packages (from spacy) (3.0.9)\n",
            "Requirement already satisfied: thinc<8.3.0,>=8.2.2 in /usr/local/lib/python3.10/dist-packages (from spacy) (8.2.4)\n",
            "Requirement already satisfied: wasabi<1.2.0,>=0.9.1 in /usr/local/lib/python3.10/dist-packages (from spacy) (1.1.3)\n",
            "Requirement already satisfied: srsly<3.0.0,>=2.4.3 in /usr/local/lib/python3.10/dist-packages (from spacy) (2.4.8)\n",
            "Requirement already satisfied: catalogue<2.1.0,>=2.0.6 in /usr/local/lib/python3.10/dist-packages (from spacy) (2.0.10)\n",
            "Requirement already satisfied: weasel<0.5.0,>=0.1.0 in /usr/local/lib/python3.10/dist-packages (from spacy) (0.4.1)\n",
            "Requirement already satisfied: typer<1.0.0,>=0.3.0 in /usr/local/lib/python3.10/dist-packages (from spacy) (0.12.3)\n",
            "Requirement already satisfied: tqdm<5.0.0,>=4.38.0 in /usr/local/lib/python3.10/dist-packages (from spacy) (4.66.4)\n",
            "Requirement already satisfied: requests<3.0.0,>=2.13.0 in /usr/local/lib/python3.10/dist-packages (from spacy) (2.31.0)\n",
            "Requirement already satisfied: pydantic!=1.8,!=1.8.1,<3.0.0,>=1.7.4 in /usr/local/lib/python3.10/dist-packages (from spacy) (2.7.3)\n",
            "Requirement already satisfied: jinja2 in /usr/local/lib/python3.10/dist-packages (from spacy) (3.1.4)\n",
            "Requirement already satisfied: setuptools in /usr/local/lib/python3.10/dist-packages (from spacy) (67.7.2)\n",
            "Requirement already satisfied: packaging>=20.0 in /usr/local/lib/python3.10/dist-packages (from spacy) (24.1)\n",
            "Requirement already satisfied: langcodes<4.0.0,>=3.2.0 in /usr/local/lib/python3.10/dist-packages (from spacy) (3.4.0)\n",
            "Requirement already satisfied: numpy>=1.19.0 in /usr/local/lib/python3.10/dist-packages (from spacy) (1.25.2)\n",
            "Requirement already satisfied: language-data>=1.2 in /usr/local/lib/python3.10/dist-packages (from langcodes<4.0.0,>=3.2.0->spacy) (1.2.0)\n",
            "Requirement already satisfied: annotated-types>=0.4.0 in /usr/local/lib/python3.10/dist-packages (from pydantic!=1.8,!=1.8.1,<3.0.0,>=1.7.4->spacy) (0.7.0)\n",
            "Requirement already satisfied: pydantic-core==2.18.4 in /usr/local/lib/python3.10/dist-packages (from pydantic!=1.8,!=1.8.1,<3.0.0,>=1.7.4->spacy) (2.18.4)\n",
            "Requirement already satisfied: typing-extensions>=4.6.1 in /usr/local/lib/python3.10/dist-packages (from pydantic!=1.8,!=1.8.1,<3.0.0,>=1.7.4->spacy) (4.12.2)\n",
            "Requirement already satisfied: charset-normalizer<4,>=2 in /usr/local/lib/python3.10/dist-packages (from requests<3.0.0,>=2.13.0->spacy) (3.3.2)\n",
            "Requirement already satisfied: idna<4,>=2.5 in /usr/local/lib/python3.10/dist-packages (from requests<3.0.0,>=2.13.0->spacy) (3.7)\n",
            "Requirement already satisfied: urllib3<3,>=1.21.1 in /usr/local/lib/python3.10/dist-packages (from requests<3.0.0,>=2.13.0->spacy) (2.0.7)\n",
            "Requirement already satisfied: certifi>=2017.4.17 in /usr/local/lib/python3.10/dist-packages (from requests<3.0.0,>=2.13.0->spacy) (2024.6.2)\n",
            "Requirement already satisfied: blis<0.8.0,>=0.7.8 in /usr/local/lib/python3.10/dist-packages (from thinc<8.3.0,>=8.2.2->spacy) (0.7.11)\n",
            "Requirement already satisfied: confection<1.0.0,>=0.0.1 in /usr/local/lib/python3.10/dist-packages (from thinc<8.3.0,>=8.2.2->spacy) (0.1.5)\n",
            "Requirement already satisfied: click>=8.0.0 in /usr/local/lib/python3.10/dist-packages (from typer<1.0.0,>=0.3.0->spacy) (8.1.7)\n",
            "Requirement already satisfied: shellingham>=1.3.0 in /usr/local/lib/python3.10/dist-packages (from typer<1.0.0,>=0.3.0->spacy) (1.5.4)\n",
            "Requirement already satisfied: rich>=10.11.0 in /usr/local/lib/python3.10/dist-packages (from typer<1.0.0,>=0.3.0->spacy) (13.7.1)\n",
            "Requirement already satisfied: cloudpathlib<1.0.0,>=0.7.0 in /usr/local/lib/python3.10/dist-packages (from weasel<0.5.0,>=0.1.0->spacy) (0.18.1)\n",
            "Requirement already satisfied: smart-open<8.0.0,>=5.2.1 in /usr/local/lib/python3.10/dist-packages (from weasel<0.5.0,>=0.1.0->spacy) (7.0.4)\n",
            "Requirement already satisfied: MarkupSafe>=2.0 in /usr/local/lib/python3.10/dist-packages (from jinja2->spacy) (2.1.5)\n",
            "Requirement already satisfied: marisa-trie>=0.7.7 in /usr/local/lib/python3.10/dist-packages (from language-data>=1.2->langcodes<4.0.0,>=3.2.0->spacy) (1.2.0)\n",
            "Requirement already satisfied: markdown-it-py>=2.2.0 in /usr/local/lib/python3.10/dist-packages (from rich>=10.11.0->typer<1.0.0,>=0.3.0->spacy) (3.0.0)\n",
            "Requirement already satisfied: pygments<3.0.0,>=2.13.0 in /usr/local/lib/python3.10/dist-packages (from rich>=10.11.0->typer<1.0.0,>=0.3.0->spacy) (2.16.1)\n",
            "Requirement already satisfied: wrapt in /usr/local/lib/python3.10/dist-packages (from smart-open<8.0.0,>=5.2.1->weasel<0.5.0,>=0.1.0->spacy) (1.14.1)\n",
            "Requirement already satisfied: mdurl~=0.1 in /usr/local/lib/python3.10/dist-packages (from markdown-it-py>=2.2.0->rich>=10.11.0->typer<1.0.0,>=0.3.0->spacy) (0.1.2)\n"
          ]
        }
      ],
      "source": [
        "!pip install spacy\n",
        "import spacy\n",
        "from spacy.lang.en.stop_words import STOP_WORDS as stopwords"
      ]
    },
    {
      "cell_type": "code",
      "source": [
        "stopwords=list(stopwords)\n",
        "from string import punctuation\n",
        "punctuation=punctuation+ '\\n'"
      ],
      "metadata": {
        "id": "JUs74Syl2-4I"
      },
      "execution_count": null,
      "outputs": []
    },
    {
      "cell_type": "code",
      "source": [
        "nlp = spacy.load('en_core_web_sm')\n",
        "doc= nlp(text)\n",
        "tokens=[token.text for token in doc]\n",
        "print(tokens)"
      ],
      "metadata": {
        "colab": {
          "base_uri": "https://localhost:8080/"
        },
        "id": "WNjzUBLu3Ifx",
        "outputId": "052798a2-f804-4bd7-a4d0-2ce707d08417"
      },
      "execution_count": null,
      "outputs": [
        {
          "output_type": "stream",
          "name": "stderr",
          "text": [
            "/usr/local/lib/python3.10/dist-packages/spacy/util.py:1740: UserWarning: [W111] Jupyter notebook detected: if using `prefer_gpu()` or `require_gpu()`, include it in the same cell right before `spacy.load()` to ensure that the model is loaded on the correct device. More information: http://spacy.io/usage/v3#jupyter-notebook-gpu\n",
            "  warnings.warn(Warnings.W111)\n"
          ]
        },
        {
          "output_type": "stream",
          "name": "stdout",
          "text": [
            "['I', 'do', 'n’t', 'know', 'why', 'people', 'do', 'n’t', 'go', 'for', 'them', '.', 'They', '’re', 'the', 'sexiest', '.', 'Asian', 'men', 'are', 'the', 'sexiest', '.', 'They', 'got', 'no', 'body', 'hair', 'from', 'the', 'neck', 'down', '.', 'It', '’s', 'like', 'making', 'love', 'to', 'a', 'dolphin', '.', 'Oh', ',', 'my', 'God', '.', 'It', '’s', 'so', 'smooth', ',', 'just', 'like', 'a', 'slip', 'and', 'slide', '.', 'Just', 'black', 'fish', ',', 'Tilikum', ',', 'all', 'up', 'in', 'my', 'bed', 'every', 'night', ',', 'you', 'know', '?', 'Ooh', '-', 'wee', '.', 'You', 'mess', 'with', 'a', 'Jewish', 'dude', 'and', 'your', 'body', 'is', 'all', 'fucked', 'up', 'afterwards', '.', 'It', '’s', 'all', 'red', 'and', 'inflamed', 'and', 'you', '’re', 'like', ',', '“', 'I', 'did', 'not', 'ask', 'to', 'be', 'exfoliated', 'today', '.', '”', '“', 'This', 'is', 'the', 'last', 'time', 'I', 'go', 'on', 'J', '-', 'date', ',', 'more', 'like', 'loofah', 'date', '.', 'Thanks', 'for', 'the', 'rug', 'burn', ',', 'Avi', '.', '”', 'And', 'then', 'Asian', 'men', ',', 'no', 'body', 'odor', '.', 'None', '.', 'They', 'just', 'smell', 'like', 'responsibility', '.', 'That', '’s', 'where', 'the', 'umami', 'flavor', 'comes', 'from', '.', 'Strange', ',', 'the', 'passage', 'of', 'time', '.', 'I', '’m', 'not', 'that', 'old', '.', 'I', '’m', '35', ',', 'that', 'is', 'not', 'old', '.', 'But', 'I', 'am', 'in', 'a', 'new', 'phase', 'right', 'before', 'old', 'called', '“', 'gross', '.', '”I', 'never', 'knew', 'about', 'this', ',', 'but', 'I', 'am', 'now', 'gross', '.', 'I', 'am', 'damp', 'all', 'the', 'time', '.', 'I', 'am', 'damp', 'now', 'and', 'I', 'will', 'be', 'damp', 'later', '.', '[', 'chuckles', ']', 'Like', 'the', 'back', 'of', 'a', 'dolphin', ',', 'my', 'back', '.', 'I', 'am', 'slick', '.', 'The', 'butt', 'part', 'of', 'my', 'pants', 'is', 'a', 'little', 'damp', 'a', 'lot', 'and', 'I', 'do', 'n’t', 'think', 'it', '’s', 'anything', 'serious', '…', 'but', 'is', 'n’t', 'it', ',', 'though', '?', 'And', '…', 'I', '’ll', 'be', 'sitting', 'at', 'a', 'restaurant', 'and', 'I', '’ll', 'get', 'up', 'and', 'I', '’ll', 'be', 'like', ',', '“', 'What', 'did', 'I', 'sit', 'in', '?', '”', 'And', 'it', 'was', 'me', '.', 'I', '’m', 'gross', 'now', '.', 'I', '’ve', 'been', 'talking', 'through', 'burps', '.', 'I', 'never', 'used', 'to', 'do', 'this', '.', 'When', 'I', 'was', 'a', 'kid', 'and', 'I', 'wanted', 'to', 'burp', ',', 'I', '’d', 'be', 'like', ',', '“', 'Silence', '!', '”', 'Blagh', '!', 'Now', 'I', '’m', 'trying', 'to', 'push', '’em', 'down', 'and', 'muscle', 'through', '’em', '.', 'I', '’ll', 'be', 'at', 'dinner', ',', 'just', 'doing', 'the', 'bread', 'and', 'the', 'seltzer', ',', 'filling', 'up', 'like', 'a', 'hot', 'air', 'balloon', ',', 'and', 'then', 'I', '’m', 'like', '…', '[', 'belches', ']', '“', 'Did', 'you', 'say', 'you', 'were', 'going', 'to', 'Italy', '?', 'Because', 'we', 'have', 'a', 'travel', '–', 'She', 'has', 'a', 'travel', 'agent', 'if', '–', '[', 'exhales', ']', 'I', '’m', 'going', 'to', 'the', 'kitchen', ',', 'does', 'anyone', 'need', 'anything', '?', 'From', 'the', '…', '[', 'belches', ']', 'Anyone', 'need', 'anything', '?', '”', 'Just', 'take', 'a', 'pause', ',', 'John', '!', 'I', '’m', 'gross', '.', 'I', 'have', 'hair', 'on', 'my', 'shoulders', 'now', '.', 'I', 'do', 'n’t', 'even', 'have', 'a', 'joke', 'for', 'that', '.', 'That', '’s', 'how', 'much', 'I', 'hate', 'that', 'shit', '.', '\\n\\n ', 'I', 'know', 'I', '’m', 'becoming', 'an', 'adult', 'finally', ',', 'because', 'now', 'my', 'favorite', 'TV', 'show', 'is', 'Fixer', 'Upper', 'on', 'HGTV', '.', 'That', '’s', 'the', 'greatest', 'show', 'of', 'all', 'time', '.', 'You', 'guys', 'watch', 'it', ',', 'Chip', 'and', 'Joanna', 'Gaines', ',', 'Fixer', 'Upper', '?', 'It', '’s', 'a', 'great', 'show', ',', 'right', '?', 'It', '’s', 'a', 'great', 'show', '.', 'Like', ',', 'it', '’s', 'really', 'a', 'beautiful', 'relationship', '.', 'Joanna', 'does', 'all', 'the', 'interior', 'decorating', ',', 'and', 'she', 'brings', 'in', 'all', 'the', 'furniture', 'and', 'makes', 'the', 'house', 'look', 'amazing', '.', 'And', 'Chip', 'just', 'hires', 'Mexicans', 'to', 'do', 'everything', 'for', 'him', '.', 'It', '’s', 'the', 'most', 'symbiotic', 'American', 'relationship', 'ever', '.', 'And', 'it', '’s', 'a', 'really', 'nice', 'show', '.', 'It', '’s', 'a', 'feel', '-', 'good', 'show', '.', 'It', '’s', 'an', 'aspiring', 'show', '.', 'You', 'watch', 'the', 'show', 'and', 'you', '’re', 'like', ',', 'man', ',', 'one', 'day', ',', 'maybe', 'my', 'house', 'could', 'look', 'that', 'nice', '–', 'if', 'I', 'moved', 'to', 'Waco', ',', 'Texas', '.', 'If', 'I', 'just', 'give', 'up', 'on', 'my', 'life', 'and', 'move', 'to', 'Waco', ',', 'Texas', ',', 'maybe', 'I', 'can', 'have', 'a', 'new', 'open', 'concept', 'kitchen', '.', 'I', 'do', 'n’t', 'know', 'about', 'you', 'guys', '.', 'Shit', 'is', 'expensive', 'where', 'I', 'live', 'in', 'LA', '.', 'And', 'I', 'watch', 'this', 'show', 'and', 'I', 'just', 'get', 'frustrated', '.', 'Because', 'you', 'get', ',', 'like', ',', 'these', 'like', ',', 'entry', '-', 'level', '-', 'job', '-', 'having', 'people', 'in', 'Texas', '.', 'And', 'they', '’re', 'like', ',', 'Joanna', ',', 'we', '’re', 'looking', 'for', 'a', 'six', 'bedroom', 'house', 'on', 'three', 'acres', 'of', 'land', 'and', 'our', 'budget', '’s', '$', '50,000', '.', 'Bitch', ',', 'I', 'ca', 'n’t', 'even', 'buy', 'a', 'crack', 'house', 'in', 'Compton', 'for', '$', '50,000', '.', 'He', 'was', 'like', ',', '“', 'What', 'is', 'wrong', 'with', 'you', '?', '”', 'I', '’m', 'like', ',', '“', 'I', 'do', 'n’t', 'know', 'what', '’s', 'wrong', 'with', 'her', '?', '“', 'That', '’s', 'the', 'real', 'question', '.', '“', 'You', 'raised', 'this', 'weirdo', '.', '“', 'I', '’m', 'trying', 'to', 'stay', 'sexually', 'relevant', '.', '“', 'I', 'would', 'love', 'an', 'ice', 'cream', '.', '“', 'But', 'that', '’s', 'not', 'what', 'she', '’s', 'into', ',', '“', 'so', 'sit', 'down', 'you', 'son', 'of', 'a', 'bitch', '.', '”', 'Did', 'n’t', 'turn', 'her', 'on', 'at', 'all', ',', 'by', 'the', 'way', '.', 'It', 'turned', 'her', 'mother', 'on', '.', 'She', 'loved', 'it', '.', 'She', 'was', 'like', ',', '“', 'Yeah', ',', 'give', 'it', 'to', 'him', '.', '“', 'I', 'hate', 'this', 'dip', 'shit', '.', '”', 'I', 'think', 'I', 'have', 'a', 'chance', 'with', 'her', 'mother', ',', 'we', '’ll', 'see', ',', 'feels', 'inappropriate', '.', 'You', 'got', 'ta', 'spice', 'it', 'up', ',', 'though', '.', 'We', '’ve', 'been', 'together', 'a', 'long', 'time', ',', 'you', 'know', '?', 'Sex', ',', 'you', 'got', 'ta', 'mix', 'it', 'up', '.', 'I', '’ll', 'tell', 'you', 'what', 'I', 'like', '.', 'I', 'like', 'shoes', 'in', 'bed', ',', 'that', '’s', 'my', 'thing', ',', 'anybody', '?', 'I', '’m', 'talking', 'like', 'high', 'heels', ',', 'not', 'New', 'Balance', 'or', 'Asics', '.', 'They', 'got', 'ta', 'be', 'something', 'nice', '.', 'I', 'like', 'shoes', 'in', 'bed', 'because', 'they', 'do', 'n’t', 'belong', 'in', 'bed', '.', 'It', '’s', 'like', 'a', 'threesome', ',', 'like', '“', 'You', 'should', 'n’t', 'be', 'here', ',', '“', 'but', 'stick', 'around', ',', 'I', 'like', 'where', 'this', 'is', 'going', ',', 'you', 'know', '?', '”', 'That', '’s', 'a', 'sexy', 'look', 'on', 'a', 'woman', ',', 'by', 'the', 'way', ',', 'naked', 'with', 'shoes', '.', 'Not', 'a', 'man', '.', 'Man', ',', 'we', '’re', 'not', 'quite', 'able', 'to', 'pull', 'that', 'look', 'off', 'just', 'yet', '.', 'If', 'I', '’m', 'naked', 'wearing', 'shoes', ',', 'I', 'look', 'like', 'a', 'toddler', 'that', 'ran', 'away', 'from', 'his', 'mother', 'while', 'she', 'was', 'changing', 'him', '.', 'You', 'ever', 'seen', 'that', 'when', 'someone', '’s', 'changing', 'the', 'kid', 'and', 'the', 'kid', 'makes', 'a', 'run', 'for', 'it', '?', 'He', '’s', 'like', ',', '“', 'No', '.', '”', 'Tiny', 'dick', 'flipping', 'everywhere', '.', 'He', 'hides', 'in', 'the', 'curtains', '.', 'That', '’s', 'me', ',', 'you', 'know', '?', 'I', 'think', 'it', '’s', 'when', 'a', 'woman', 'is', 'naked', 'wearing', 'shoes', ',', 'it', '’s', 'kind', 'of', 'like', ',', 'she', '’s', 'like', ',', '“', 'I', 'forgot', 'to', 'get', 'dressed', '.', '”', 'A', 'man', 'naked', 'with', 'shoes', 'is', 'like', ',', '“', 'I', 'forgot', 'to', 'take', 'my', 'medicine', '.', '“', 'I', 'do', 'n’t', 'know', 'what', 'got', 'into', 'me', ',', 'I', '’m', 'sorry', '.', '”', 'I', 'like', 'morning', 'sex', ',', 'that', '’s', 'my', 'favorite', 'sex', ',', 'morning', 'sex', '.', 'First', 'thing', ',', 'right', '?', '\\n\\n', '[', 'audience', 'member', 'screams', ']', '\\n\\n', 'Yeah', ',', 'there', 'you', 'go', '.', 'I', 'love', 'it', ',', 'my', 'wife', 'does', 'n’t', 'like', 'it', '.', 'I', '’m', 'like', ',', '“', 'Let', '’s', 'have', 'some', 'morning', 'sex', '.', '”', 'She', '’s', 'like', ',', '“', 'No', ',', 'I', 'want', 'to', 'start', 'my', 'day', '.', '”', 'Yeah', ',', 'I', 'want', 'to', 'start', 'my', 'day', 'also', '.', 'That', '’s', 'what', 'I', 'was', 'referring', 'to', '.', 'Frankly', ',', 'it', '’s', 'a', 'little', 'hurtful', 'that', 'you', 'would', 'n’t', 'consider', 'that', 'part', 'of', 'your', 'day', '.', 'Then', 'she', '’s', 'just', 'eating', 'cereal', '.', 'I', 'just', 'got', 'cock', 'blocked', 'by', 'Tony', 'the', 'Tiger', '.', 'It', '’s', 'not', 'a', 'great', 'feeling', '.', 'I', 'think', 'the', 'problem', 'with', 'morning', 'sex', ',', 'morning', 'breath', '.', 'That', '’s', 'the', 'main', 'problem', '.', 'Morning', 'breath', 'I', '’m', 'pretty', 'sure', 'is', 'how', 'doggy', 'style', 'sex', 'got', 'invented', '.', 'There', 'was', 'a', 'couple', 'having', 'sex', 'first', 'thing', 'in', 'the', 'morning', 'and', 'then', '30', 'seconds', 'in', 'the', 'woman', '’s', 'like', ',', '“', 'Let', '’s', 'try', 'this', 'with', 'my', 'face', 'buried', 'in', 'the', 'pillow', '.', '“', 'That', '’ll', 'be', 'better', '.', '“', 'We', 'can', 'still', 'do', 'it', ',', 'I', '’ll', 'just', 'lift', 'my', 'genitals', 'to', 'you', '“', 'and', 'hide', 'my', 'nostrils', 'in', 'the', 'linens', '.', '“', 'Thank', 'you', 'for', 'making', 'the', 'bed', ',', 'by', 'the', 'way', '.', '“', 'That', '’s', 'really', 'nice', 'of', 'you', '.', '”', 'Thank', 'you', 'guys', 'very', 'much', ',', 'that', '’s', 'it', '.', '\\n\\n ', 'I', 'have', 'this', 'friend', ',', 'she', '’s', 'the', 'best', 'person', 'I', 'know', ',', 'but', 'I', 'sometimes', 'want', 'to', 'punch', 'her', 'in', 'the', 'face', 'because', 'she', '’s', 'so', 'nice', '—', 'because', 'I', '’m', 'not', 'a', 'good', 'person', '.', 'Like', ',', 'I', '’ll', 'tell', 'her', 'something', 'I', '’m', 'having', 'problems', 'with', ',', 'and', 'she', '’ll', 'say', ',', '“', 'I', '’m', 'going', 'to', 'pray', 'on', 'that', 'for', 'you', '.', '”I', 'have', 'a', 'feeling', 'when', 'she', 'prays', ',', 'God', '’s', 'like', ',', '“', 'Ugh', '!', 'Fuck', '!', 'This', 'one', 'makes', 'me', 'want', 'to', 'get', 'out', 'of', 'the', 'business', '.', '”You', 'guys', 'think', 'there', '’s', 'a', 'God', '?', 'How', 'many', '—', 'How', 'many', 'of', 'you', ',', 'by', 'applause', ',', 'believe', 'there', 'is', 'a', 'God', '.', 'How', 'many', 'people', '?', ' ', 'All', 'right', '.', 'About', '30', 'out', 'of', '1,400', '.', 'That', '’s', 'nice', '.', 'That', '’s', 'nice', '.', 'That', 'shit', '’s', 'over', '.', 'It', '’s', 'just', 'fucking', 'over', '.', 'You', 'go', 'into', 'a', 'church', ',', 'it', '’s', 'like', 'going', 'to', 'a', 'roller', 'skating', 'rink', 'on', 'a', 'Wednesday', ',', 'it', '’s', 'like', '…', '“', 'This', 'used', 'to', 'be', 'something', '!', 'What', 'happened?”I', 'do', 'n’t', 'know', '.', 'I', 'do', 'n’t', 'think', 'there', '’s', 'a', 'God', '.', 'And', 'that', '’s', 'not', 'a', 'conviction', '.', 'I', 'just', 'do', 'n’t', 'suppose', '.', 'I', 'just', '—', 'I', 'just', 'reckon', 'there', 'ai', 'n’t', '.', 'I', 'reckon', 'there', 'ai', 'n’t', 'no', 'lord', '.', 'And', 'because', 'I', 'do', 'n’t', 'believe', 'there', '’s', 'a', 'God', ',', 'I', 'fucking', 'hope', 'there', '’s', 'not', 'a', 'God', '.', 'I', 'fuckin', '’', 'hope', '—', 'Oh', ',', 'please', '!', ' ', 'If', 'you', 'do', 'n’t', 'believe', 'in', 'God', ',', 'you', 'better', 'fucking', 'hope', '—', 'you', 'better', 'get', 'on', 'your', 'knees', 'and', 'pray', '.', 'Please', ',', 'God', ',', 'do', 'n’t', 'be', '.', '‘', 'Cause', 'that', '’s', 'a', 'bad', 'thing', 'to', 'be', 'wrong', 'about', '.', 'That', '’s', 'a', 'bad', 'wrong', '.', 'You', '’re', 'an', 'atheist', 'your', 'whole', 'life', 'and', 'you', 'die', 'and', 'you', '’re', 'like', ',', '“', 'Aw', ',', 'fuck', '!', 'Aw', ',', 'you', '’re', 'shitting', '—', 'with', 'a', 'beard', 'and', 'everything', '.', 'Fuck', '!', 'Aww', '…', 'Hey', ',', 'I', '—', 'I', 'dunno', '…', 'Yeah', ',', 'yeah', ',', 'I', '’m', 'going', '.', 'Yep', '.', '”Being', 'wrong', 'the', 'other', 'way', 'is', 'not', 'a', 'big', 'problem', '.', 'If', 'you', 'believe', 'in', 'God', 'and', 'you', '’re', 'wrong', ',', 'you', 'do', 'n’t', 'really', 'have', 'a', 'problem', '.', 'It', 'gives', 'you', 'a', 'little', 'comfort', 'during', 'your', 'stupid', 'life', '.', 'And', 'then', 'at', 'the', 'end', ',', 'you', '’re', 'just', 'seriously', 'disappointed', 'for', 'like', 'a', 'second', '—', 'it', '’s', 'the', 'last', 'feeling', 'you', 'get', 'to', 'have', '.', 'You', 'die', ',', 'you', '’re', 'like', ',', '“', 'Nothing', '?', 'Seriously', '?', 'Nothing', '?', '”', '“', 'Yeah', ',', 'just', 'get', 'in', 'the', 'Dumpster', '.', 'Sorry', '.', '”', '“', 'Sorry', ',', 'you', '’re', 'just', 'garbage', 'now', '.', '”', 'If', 'you', 'do', 'n’t', 'believe', 'in', 'God', ',', 'that', '’s', 'what', 'you', 'believe', '—', 'that', 'when', 'you', 'die', ',', 'you', '’re', 'just', 'garbage', '.', 'You', 'are', 'your', 'family', '’s', 'newest', 'garbage', '.', 'So', 'he', 'started', 'to', 'act', ',', 'and', 'he', 'had', 'a', 'movie', 'on', 'TV', 'called', '“', 'Normal', 'People', ',', '”', 'where', 'he', 'played', 'a', 'retarded', 'man', 'who', 'wants', 'to', 'live', 'a', 'normal', 'life', '—', 'it', 'was', 'very', 'inspiring', ',', 'actually', '.', 'And', 'at', 'one', 'point', 'he', 'goes', 'to', '—', 'he', 'did', 'n’t', 'do', ',', 'like', ',', 'a', 'big', 'retarded', 'character', '.', 'He', 'wore', 'thick', 'glasses', ',', 'he', 'talked', 'like', 'Elmer', 'Fudd', '.', 'That', 'was', 'the', 'whole', 'thing', '.', 'So', 'he', 'goes', 'up', 'to', 'the', 'guy', 'who', 'runs', 'the', 'group', 'home', 'he', 'lives', 'in', 'and', 'he', 'says', ',', '“', 'I', 'want', 'to', 'get', 'a', 'job', '.', '”', 'And', 'the', 'guys', 'who', 'runs', 'it', 'is', 'like', ',', 'you', 'know', ',', 'Republican', ',', 'conservative', '.', 'So', 'he', '’s', 'like', ',', '“', 'You', 'can', 'get', 'a', 'job', ',', 'you', '’re', 'retarded', '!', '”', 'You', 'know', '.', 'But', '—', 'but', 'then', 'there', '’s', 'a', 'liberal', 'lady', 'who', 'works', 'there', 'and', 'she', 'says', ',', '“', 'Of', 'course', 'he', 'can', 'get', 'a', 'job', '.', 'He', '’s', 'as', 'good', 'as', 'anyone', '!', '”', 'So', 'they', 'let', 'him', 'get', 'a', 'job', 'as', 'an', 'air', 'traffic', 'controller', 'or', 'whatever', 'was', 'available', '.', 'And', 'then', '…', 'He', 'meets', 'a', 'woman', 'who', '’s', 'also', 'retarded', ',', 'who', 'lives', 'at', 'the', 'group', 'home', '.', 'He', 'falls', 'in', 'love', 'with', 'her', '.', 'It', '’s', 'a', 'very', 'nice', 'love', 'story', '.', 'And', 'he', 'says', ',', '“', 'We', 'want', 'to', 'get', 'married', '.', '”', 'And', 'the', 'guy', 'says', ',', '“', 'Brr', '!', '”', 'She', 'says', ',', '“', 'But', 'they', '’re', 'in', 'love', '!', '”', 'So', 'they', 'get', 'married', '.', 'And', 'then', 'one', 'day', 'he', 'says', ',', '“', 'We', 'want', 'to', 'have', 'a', 'baby', '.', '”', 'And', 'the', 'liberal', 'lady', 'says', ',', '“', 'No', 'fucking', 'way', '.', '”', 'And', 'they', 'just', 'shut', 'them', 'down', 'right', 'there', '.', 'And', 'that', '’s', 'the', 'end', 'of', 'the', 'movie', '.', 'I', 'swear', 'to', 'God', ',', 'that', '’s', 'just', 'how', 'it', 'ends', '.', 'And', 'the', 'point', 'of', 'the', 'movie', 'is', 'just', ',', 'you', 'know', ',', 'hey', ',', 'there', '’s', 'a', 'limit', '—', 'like', ',', 'that', '’s', ',', 'I', 'guess', ',', 'what', 'the', 'point', 'of', 'it', 'was', '.', 'And', 'that', '’s', 'pretty', 'intense', '.', 'My', 'girlfriend', '’s', 'Mexican', '.', 'And', 'I', 'did', 'n’t', 'realize', 'how', 'Mexican', 'she', 'was', 'until', 'she', 'went', 'into', 'labor', 'and', 'they', 'broke', 'her', 'water', 'and', 'candy', 'fell', 'out', 'of', 'her', '.', 'Do', 'you', 'realize', 'my', 'son', 'is', 'Mexican', 'and', 'Indian', '?', 'He', '’s', 'going', 'to', 'be', 'able', 'to', 'engineer', 'the', 'wall', '.', 'And', 'hop', 'it', '.', 'He', '’s', 'going', 'to', 'steal', 'your', 'laptop', 'and', 'fix', 'it', '.', 'It', '’s', 'going', 'to', 'be', 'an', 'amazing', 'thing', 'to', 'see', '.', 'How', 'old', 'are', 'your', 'kids', '?', '22', 'and', '19.RUSSELL', 'PETERS', ':', '22', 'and', '19', '.', 'Man', ',', 'you', 'did', 'all', 'this', 'shit', 'young', '.', 'That', '’s', 'crazy', '.', 'I', 'mean', ',', 'that', '’s', 'great', '.', 'I', 'did', 'it', 'way', 'too', 'late', '.', 'You', 'think', 'about', 'it', ',', 'I', '’m', '49', '.', 'When', 'my', 'son', 'starts', 'walking', ',', 'we', '’re', 'going', 'to', 'be', 'walking', 'the', 'same', 'way', '.', 'I', 'waited', 'too', 'long', '.', 'Do', 'you', 'remember', 'your', 'first', 'pregnancy', '?', 'You', 'remember', 'it', 'clearly', '?', 'Do', 'you', 'remember', 'how', 'many', 'months', 'it', 'took', 'you', 'before', 'you', 'started', 'to', 'show', '?', 'Probably', 'about', 'four', 'to', 'six', ',', 'maybe', '?', 'Yeah', ',', 'it', '’s', 'usually', 'about', 'that', ',', 'right', '?', 'Four', 'to', 'six', 'months', 'on', 'your', 'first', 'pregnancy', ',', 'the', 'woman', 'starts', 'to', 'show', '.', 'My', 'girlfriend', ',', 'she', 'started', 'the', 'show', 'after', 'one', 'month', '.', 'It', 'was', 'like', ',', '.', 'I', '’m', 'like', ',', 'what', 'the', 'fuck', 'is', 'going', 'on', '?', 'How', 'many', '?', 'How', 'many', '?', 'How', 'many', 'motherfuckers', 'are', 'in', 'there', 'right', 'now', '?', 'I', 'took', 'her', 'straight', 'to', 'the', 'doctor', '.', 'I', 'need', 'to', 'know', 'many', 'heartbeats', 'you', 'hear', ',', 'doctor', '.', 'How', 'many', 'heartbeats', 'do', 'you', 'hear', '?', 'There', 'was', 'just', 'one', ',', 'but', 'I', 'got', 'so', 'scared', '.', 'Because', 'twins', 'at', 'this', 'age', ',', 'fuck', 'that', '.', 'So', '…', 'You', 'might', 'be', 'sitting', 'in', 'your', 'seat', 'now', ',', 'going', ',', '“', 'Tom', ',', 'what', 'can', 'we', 'still', 'say?[audience', 'laughs]What', 'can', 'we', 'say', '?', '”', 'I', '’ll', 'tell', 'you', 'what', 'you', 'can', 'say', '.', 'White', 'racial', 'slurs', '.', '[', 'audience', 'laughs', ']', 'All', 'of', '’em', '.', 'Let', 'her', 'rip', '.', 'Cracker', ',', 'mick', ',', 'kraut', ',', 'polack', ',', 'frog', ',', 'guinea', ',', 'wop', ',', 'honky', '.', 'Have', 'fun', '.', '[', 'audience', 'laughs', ']', 'Say', '’em', 'all', 'you', 'want', '.', 'And', 'if', 'you', '’re', 'not', 'white', ',', 'and', 'you', '’re', 'going', ',', '“', 'Wait', ',', 'are', 'you', 'saying', 'I', 'can', 'say', 'those', '?', '”', '-That', '’s', 'exactly', 'what', 'I', '’m', 'saying', '.', '-[audience', 'laughs', ']', 'Nobody', 'cares', '.', 'Call', 'up', 'your', 'Italian', 'friend', 'tomorrow', 'and', 'be', 'like', ',', '“', 'Hey', ',', 'you', 'fuckin', '’', 'guinea', '.', '”', '[', 'audience', 'laughs', ']', 'And', 'he', '’ll', 'go', ',', '[', 'laughs', ']', '“', 'I', 'do', 'n’t', 'care', '.', '[', 'audience', 'laughs', ']', 'I', 'do', 'n’t', 'give', 'a', 'shit', '.', '”', 'It', '’s', 'not', 'a', 'historically', 'disenfranchised', 'group', '.', 'The', 'best', 'slur', 'of', 'all', ',', 'for', 'me', ',', 'I', 'think', ',', 'is', 'honky', '.', 'And', 'I', '’ll', 'tell', 'you', 'why', '.', 'The', 'word', 'honky', 'is', 'hilarious', '…', 'in', 'and', 'of', 'itself', '.', 'But', 'for', 'some', 'reason', ',', 'truly', 'racist', 'white', 'people', 'have', 'latched', 'onto', 'that', 'word', '.', 'It', '’s', 'like', 'this', 'great', 'indicator', 'to', 'know', 'if', 'someone', '’s', 'racist', '.', 'If', 'they', 'act', 'like', 'that', 'word', 'is', 'offensive', ',', 'run', ',', 'okay', '?', '[', 'audience', 'laughs', ']', 'You', 'do', 'n’t', 'believe', 'me', ',', 'watch', 'the', 'news', '.', 'Next', 'time', 'there', '’s', 'some', 'racial', 'fight', 'in', 'the', 'news', ',', 'they', '’ll', 'find', 'some', 'hillbilly', '.', '“', 'What', 'happened', '?', '”', 'He', '’ll', 'be', 'like', ',', '“', 'Well', ',', 'he', 'called', 'me', 'a', 'honky', '.', '”', '[', 'audience', 'laughs', ']', 'And', 'they', '’re', 'like', ',', '“', 'Did', 'you', 'pass', 'out', 'from', 'laughing', 'hysterically', ',', 'or', 'what', 'happened', 'next', '?', '”', 'He', '’s', 'like', ',', '“', 'No', ',', 'I', 'stabbed', 'him', '.', '”', 'And', 'you', '’re', 'like', ',', '“', 'Oh', ',', 'shit', '.', 'That', '’s', 'fuckin', '’', 'crazy', '.', '”', 'I', '’ll', 'pay', 'you', 'to', 'call', 'me', 'a', 'honky', '.', 'I', 'do', 'n’t', 'care', '.', 'It', '’s', 'a', 'great', 'word', '.', '\\n\\n ', 'That', 'was', 'all', 'I', 'thought', 'New', 'York', 'was', 'before', 'I', 'came', 'here', '.', 'I', 'just', 'thought', 'it', 'was', 'a', 'city', 'of', 'people', 'almost', 'getting', 'run', 'over', '.', 'Just', 'everyone', 'walking', 'into', 'the', 'street', ',', 'a', 'taxi', 'rolling', 'up', ',', 'slamming', 'the', 'hood', ',', '\\n\\n', '[', 'New', 'York', 'accent', ']', '“', 'I', '’m', 'walking', 'over', 'here', '!', 'What', '’s', 'wrong', 'with', 'you', '?', 'You', 'want', 'some', 'coffee', '?', '”', '\\n\\n', 'I', 'do', 'n’t', 'even', 'know', 'what', 'that', 'meant', '.', 'All', 'I', 'knew', 'was', 'one', 'day', ',', 'I', 'was', 'gon', 'na', 'go', 'to', 'New', 'York', 'City', '.', 'And', 'I', ',', 'too', ',', 'was', 'going', 'to', 'almost', 'get', 'run', 'over', 'by', 'a', 'car', '.', 'I', 'had', 'a', 'dream', 'and', 'I', 'set', 'out', '.', 'And', 'it', '’s', 'a', 'lot', 'harder', 'than', 'it', 'seems', '.', 'In', 'the', 'movies', ',', 'they', 'make', 'it', 'look', 'simple', '.', 'They', 'make', 'it', 'look', 'like', 'you', 'run', 'out', ',', 'the', 'car', 'almost', 'hits', 'you', ',', 'you', 'do', 'that', 'thing', '–', '“', 'Hey', '!', '”', 'Slam', 'the', 'hood', 'and', 'then', 'move', 'on', '.', 'But', 'it', '’s', 'not', 'that', 'easy', '.', 'It', '’s', 'all', 'about', 'timing', '.', 'It', '’s', 'all', 'about', 'timing', '.', 'It', '’s', 'all', 'about', 'being', 'precise', '.', 'You', 'have', 'to', 'get', 'out', 'at', 'the', 'exact', 'same', 'time', 'that', 'the', 'taxi', 'is', 'there', ',', 'so', 'it', 'stops', ',', 'so', 'you', 'can', 'hit', 'the', 'hood', '.', 'If', 'you', 'do', 'n’t', 'have', 'the', 'guts', 'and', 'you', 'come', 'out', 'too', 'late', ',', 'the', 'car', '’s', 'gone', '.', 'It', '’s', 'a', 'waste', 'of', 'everyone', '’s', 'time', '.', 'You', 'just', 'look', 'like', 'a', 'mad', 'person', 'now', '.', 'You', '’re', 'just', 'like', '…', '\\n\\n', '[', 'imitates', 'engine', 'revving', ']', '\\n\\n', '“', 'Hey', '!', 'I', '’m', 'walking', 'over', 'here', '!', '”', 'If', 'you', 'come', 'out', 'at', 'the', 'exact', 'time', 'as', 'the', 'car', ',', 'then', 'you', 'just', 'get', 'run', 'over', '.', 'That', '’s', 'just', 'pointless', '.', 'You', 'know', ',', 'it', '’s', 'like', ',', '“', 'Hey', '–', '”', '[', 'thumping', 'noises', ']', '“', 'Hey', ',', 'he', 'was', 'walking', 'over', 'here', '.', 'What', '’s', 'wrong', 'with', 'you', '?', '”', 'The', 'worst', 'one', 'is', 'when', 'you', 'come', 'out', 'too', 'early', '.', 'Because', 'that', '’s', 'just', 'awkward', 'for', 'everyone', 'involved', '.', 'Because', 'you', 'come', 'out', 'and', 'then', 'the', 'car', 'stops', ',', 'but', 'you', 'ca', 'n’t', 'reach', 'the', 'hood', '.', 'So', 'it', '’s', 'like', ',', '“', 'Hey', '!', '”', '\\n\\n', '[', 'imitates', 'tires', 'screeching', ']', '\\n\\n', '“', 'Come', 'here', '.', 'No', '.', 'Come', 'closer', ',', 'please', '.', 'I', 'want', 'to', 'tell', 'you', 'a', 'secret', '.', 'Come', 'here', '.', 'No', ',', 'I', '’m', 'from', 'Africa', '.', 'I', 'have', 'a', 'dream', '.', 'Please', 'come', 'closer', '.', 'I', 'just', '–', 'I', 'just', 'want', 'you', '–', 'I', '’m', 'walking', 'over', 'here', '.', '”', '\\xa0\\n\\n ', 'I', '’m', 'a', 'pretty', 'liberal', 'guy', ',', 'but', 'some', 'of', 'my', 'friends', 'now', 'are', 'so', 'liberal', 'that', 'everything', 'turns', 'into', 'slavery', 'or', 'the', 'Holocaust', 'in', 'every', 'conversation', ',', 'you', 'know', 'what', 'I', '’m', 'talking', 'about', '?', 'I', 'was', 'talking', 'to', 'my', 'friend', 'the', 'other', 'day', ',', 'and', 'he', 'goes', ',', '“', 'Trump', 'is', 'Hitler', '.', '”', 'I', 'said', ',', '“', 'All', 'right', ',', 'look', ',', '“', 'we', 'do', 'n’t', 'know', 'how', 'hilarious', 'Hitler', 'would', 'have', 'been', '“', 'on', 'social', 'media', '.', '“', 'That', '’s', 'not', 'fair', '.', '”', 'Hitler', 'might', 'have', 'had', 'a', 'strong', 'Twitter', 'presence', '.', 'Trapped', 'in', 'bunker', ',', 'sad', '.', '(', 'audience', 'laughing', ')', 'Adolf', '’s', 'trending', '.', '\\n\\n', 'I', 'came', 'across', 'the', 'article', 'the', 'other', 'day', 'on', 'the', 'internet', '.', 'Just', 'said', 'fun', 'facts', 'about', 'Hitler', ',', 'which', 'I', 'think', 'is', 'a', 'great', 'title', '.', '(', 'audience', 'laughing', ')', 'I', '’ve', 'always', 'said', 'there', 'are', 'n’t', 'enough', 'upbeat', 'pieces', 'on', 'the', 'Fuhrer', '.', '(', 'audience', 'laughing', ')', 'Fun', 'fact', 'about', 'Hitler', ',', 'did', 'n’t', 'pay', 'income', 'tax', ',', 'was', 'very', 'bad', 'at', 'managing', 'his', 'money', ',', 'and', 'I', 'thought', ',', 'man', ',', 'it', '’s', 'too', 'bad', 'there', 'was', 'n’t', 'a', 'group', 'of', 'people', 'that', 'could', 'have', 'helped', ',', 'you', 'know', '?', '(', 'audience', 'laughing', ')', 'Jews', '.', 'So', '…', '\\n\\n', 'You', 'know', 'where', 'that', 'joke', 'did', 'not', 'hit', '?', 'Naples', ',', 'Florida', ',', 'okay', '?', '(', 'audience', 'laughing', ')', 'Terrible', 'people', '.', 'My', 'least', 'favorite', 'city', '.', 'I', '’ll', 'never', 'go', 'back', '.', 'I', 'bombed', 'four', 'straight', 'nights', '.', 'I', 'got', 'into', 'an', 'argument', 'with', 'an', '80', '-', 'something', '-', 'year', '-', 'old', 'man', '.', 'I', 'had', 'a', 'breakdown', 'on', 'the', 'last', 'show', '.', 'I', 'finally', 'just', 'said', 'I', 'got', 'ta', 'get', 'out', 'of', 'Naples', '.', 'He', 'goes', ',', '“', 'Well', ',', 'you', '’re', 'still', 'here', '.', '”', 'I', 'said', ',', '“', 'Well', ',', 'I', '’ll', 'be', 'out', 'in', 'the', 'morning', '.', '“', 'You', '’ll', 'be', 'in', 'a', 'casket', 'soon', '.', '”', '(', 'audience', 'laughing', ')', 'And', 'he', 'said', ',', '“', 'You', '’ll', 'have', 'to', 'put', 'me', 'there', ',', '”', 'and', 'I', 'said', ',', '“', 'That', '’s', 'not', 'how', 'time', 'works', '.', '”', '(', 'audience', 'laughing', ')', 'And', 'it', 'kept', 'escalating', 'back', 'and', 'forth', '.', 'Finally', ',', 'I', 'hear', 'a', 'voice', 'in', 'the', 'crowd', 'yell', 'out', ',', '“', 'Grandpa', ',', 'enough', '.', '”', '(', 'audience', 'laughing', ')', 'That', '’s', 'Naples', 'to', 'me', '.', 'My', 'dad', 'called', 'me', 'to', 'check', 'in', '.', 'He', 'said', ',', '“', 'How', 'are', 'you', '?', '”', 'I', 'said', ',', '“', 'I', '’m', 'in', 'fucking', 'Naples', ',', '”', 'and', 'my', 'dad', 'goes', ',', '“', 'Italy', '?', '”', 'and', 'I', 'was', 'like', ',', '“', 'Oh', ',', 'no', '.', '(', 'audience', 'laughing', ')', '“', 'These', 'jokes', 'are', 'not', 'taking', 'me', 'abroad', ',', 'Pops', '.', '(', 'audience', 'laughing', ')', '“', 'I', '’m', 'in', 'Florida', ',', 'the', 'bad', 'part', '.', '”', '\\n\\n', 'True', 'story', '.', 'I', '’m', 'on', 'stage', 'there', '.', 'As', 'the', 'start', 'to', 'a', 'bit', ',', 'I', 'go', ',', '“', 'So', ',', 'I', '’m', 'a', 'New', 'York', 'Jew', ',', '”', 'and', 'someone', 'in', 'the', 'crowd', 'goes', ',', '“', 'Ugh', ',', 'no', '.', '”', '(', 'audience', 'laughing', ')', 'Not', 'a', 'yes', 'or', 'no', 'question', '.', '(', 'audience', 'laughing', ')', 'It', '’s', 'my', 'heritage', '.', 'Also', ',', 'ugh', ',', 'that', '’s', 'our', 'sound', '.', 'That', '’s', 'cultural', 'appropriation', ',', 'okay', '?']\n"
          ]
        }
      ]
    },
    {
      "cell_type": "code",
      "source": [
        "word_frequencies={}\n",
        "for word in doc:\n",
        "    if word.text.lower() not in stopwords:\n",
        "        if word.text.lower() not in punctuation:\n",
        "            if word.text not in word_frequencies.keys():\n",
        "                word_frequencies[word.text] = 1\n",
        "            else:\n",
        "                word_frequencies[word.text] += 1"
      ],
      "metadata": {
        "id": "Te2wLvBX3VET"
      },
      "execution_count": null,
      "outputs": []
    },
    {
      "cell_type": "code",
      "source": [
        "print(word_frequencies)"
      ],
      "metadata": {
        "colab": {
          "base_uri": "https://localhost:8080/"
        },
        "id": "qBEVcWsX4bmZ",
        "outputId": "76f6b6a2-8136-4f55-b2cd-8494788b4c8f"
      },
      "execution_count": null,
      "outputs": [
        {
          "output_type": "stream",
          "name": "stdout",
          "text": [
            "{'know': 22, 'people': 7, 'sexiest': 2, 'Asian': 2, 'men': 2, 'got': 10, 'body': 3, 'hair': 2, 'neck': 1, 'like': 59, 'making': 2, 'love': 6, 'dolphin': 2, 'Oh': 4, 'God': 12, 'smooth': 1, 'slip': 1, 'slide': 1, 'black': 1, 'fish': 1, 'Tilikum': 1, 'bed': 5, 'night': 1, 'Ooh': 1, 'wee': 1, 'mess': 1, 'Jewish': 1, 'dude': 1, 'fucked': 1, 'red': 1, 'inflamed': 1, '“': 81, 'ask': 1, 'exfoliated': 1, 'today': 1, '”': 56, 'time': 10, 'J': 1, 'date': 2, 'loofah': 1, 'Thanks': 1, 'rug': 1, 'burn': 1, 'Avi': 1, 'odor': 1, 'smell': 1, 'responsibility': 1, 'umami': 1, 'flavor': 1, 'comes': 1, 'Strange': 1, 'passage': 1, 'old': 5, '35': 1, 'new': 2, 'phase': 1, 'right': 8, 'called': 4, 'gross': 4, '”I': 2, 'knew': 2, 'damp': 4, 'later': 1, 'chuckles': 1, 'Like': 3, 'slick': 1, 'butt': 1, 'pants': 1, 'little': 3, 'lot': 2, 'think': 9, '…': 12, 'sitting': 2, 'restaurant': 1, 'sit': 2, 'talking': 4, 'burps': 1, 'kid': 3, 'wanted': 1, 'burp': 1, 'Silence': 1, 'Blagh': 1, 'trying': 2, 'push': 1, '’em': 4, 'muscle': 1, 'dinner': 1, 'bread': 1, 'seltzer': 1, 'filling': 1, 'hot': 1, 'air': 2, 'balloon': 1, 'belches': 2, 'going': 14, 'Italy': 2, 'travel': 2, '–': 7, 'agent': 1, 'exhales': 1, 'kitchen': 2, 'need': 3, 'pause': 1, 'John': 1, 'shoulders': 1, 'joke': 2, 'hate': 2, 'shit': 6, '\\n\\n ': 3, 'adult': 1, 'finally': 2, 'favorite': 3, 'TV': 2, 'Fixer': 2, 'Upper': 2, 'HGTV': 1, 'greatest': 1, 'guys': 5, 'watch': 4, 'Chip': 2, 'Joanna': 3, 'Gaines': 1, 'great': 7, 'beautiful': 1, 'relationship': 2, 'interior': 1, 'decorating': 1, 'brings': 1, 'furniture': 1, 'makes': 3, 'house': 4, 'look': 9, 'amazing': 2, 'hires': 1, 'Mexicans': 1, 'symbiotic': 1, 'American': 1, 'nice': 8, 'feel': 1, 'good': 3, 'aspiring': 1, 'man': 6, 'day': 8, 'maybe': 3, 'moved': 1, 'Waco': 2, 'Texas': 3, 'life': 4, 'open': 1, 'concept': 1, 'Shit': 1, 'expensive': 1, 'live': 2, 'LA': 1, 'frustrated': 1, 'entry': 1, 'level': 1, 'job': 5, 'having': 3, 'looking': 1, 'bedroom': 1, 'acres': 1, 'land': 1, 'budget': 1, '50,000': 2, 'Bitch': 1, 'buy': 1, 'crack': 1, 'Compton': 1, 'wrong': 8, 'real': 1, 'question': 2, 'raised': 1, 'weirdo': 1, 'stay': 1, 'sexually': 1, 'relevant': 1, 'ice': 1, 'cream': 1, 'son': 3, 'bitch': 1, 'turn': 1, 'way': 7, 'turned': 1, 'mother': 3, 'loved': 1, 'Yeah': 6, 'dip': 1, 'chance': 1, 'feels': 1, 'inappropriate': 1, 'ta': 4, 'spice': 1, 'long': 2, 'Sex': 1, 'mix': 1, 'tell': 5, 'shoes': 6, 'thing': 7, 'anybody': 1, 'high': 1, 'heels': 1, 'New': 5, 'Balance': 1, 'Asics': 1, 'belong': 1, 'threesome': 1, 'stick': 1, 'sexy': 1, 'woman': 5, 'naked': 4, 'Man': 2, 'able': 2, 'pull': 1, 'wearing': 2, 'toddler': 1, 'ran': 1, 'away': 1, 'changing': 2, 'seen': 1, 'run': 6, 'Tiny': 1, 'dick': 1, 'flipping': 1, 'hides': 1, 'curtains': 1, 'kind': 1, 'forgot': 2, 'dressed': 1, 'medicine': 1, 'sorry': 1, 'morning': 7, 'sex': 7, '\\n\\n': 11, 'audience': 19, 'member': 1, 'screams': 1, 'wife': 1, 'Let': 3, 'want': 11, 'start': 3, 'referring': 1, 'Frankly': 1, 'hurtful': 1, 'consider': 1, 'eating': 1, 'cereal': 1, 'cock': 1, 'blocked': 1, 'Tony': 1, 'Tiger': 1, 'feeling': 3, 'problem': 4, 'breath': 2, 'main': 1, 'Morning': 1, 'pretty': 3, 'sure': 1, 'doggy': 1, 'style': 1, 'invented': 1, 'couple': 1, '30': 2, 'seconds': 1, 'try': 1, 'face': 2, 'buried': 1, 'pillow': 1, 'better': 3, 'lift': 1, 'genitals': 1, 'hide': 1, 'nostrils': 1, 'linens': 1, 'Thank': 2, 'friend': 3, 'best': 2, 'person': 3, 'punch': 1, '—': 13, 'problems': 1, 'pray': 2, 'prays': 1, 'Ugh': 2, 'Fuck': 2, 'business': 1, '”You': 1, 'applause': 1, 'believe': 7, ' ': 2, '1,400': 1, 'fucking': 5, 'church': 1, 'roller': 1, 'skating': 1, 'rink': 1, 'Wednesday': 1, 'happened?”I': 1, 'conviction': 1, 'suppose': 1, 'reckon': 2, 'ai': 2, 'lord': 1, 'hope': 3, 'fuckin': 3, '’': 3, 'knees': 1, '‘': 1, 'Cause': 1, 'bad': 5, 'atheist': 1, 'die': 3, 'Aw': 2, 'fuck': 3, 'shitting': 1, 'beard': 1, 'Aww': 1, 'Hey': 7, 'dunno': 1, 'yeah': 1, 'Yep': 1, '”Being': 1, 'big': 2, 'gives': 1, 'comfort': 1, 'stupid': 1, 'end': 2, 'seriously': 1, 'disappointed': 1, 'second': 1, 'Seriously': 1, 'Dumpster': 1, 'Sorry': 2, 'garbage': 3, 'family': 1, 'newest': 1, 'started': 3, 'act': 2, 'movie': 3, 'Normal': 1, 'People': 1, 'played': 1, 'retarded': 4, 'wants': 1, 'normal': 1, 'inspiring': 1, 'actually': 1, 'point': 3, 'goes': 6, 'character': 1, 'wore': 1, 'thick': 1, 'glasses': 1, 'talked': 1, 'Elmer': 1, 'Fudd': 1, 'guy': 3, 'runs': 2, 'group': 4, 'home': 2, 'lives': 2, 'says': 7, 'Republican': 1, 'conservative': 1, 'liberal': 4, 'lady': 2, 'works': 2, 'course': 1, 'let': 1, 'traffic': 1, 'controller': 1, 'available': 1, 'meets': 1, 'falls': 1, 'story': 2, 'married': 2, 'Brr': 1, 'baby': 1, 'shut': 1, 'swear': 1, 'ends': 1, 'hey': 1, 'limit': 1, 'guess': 1, 'intense': 1, 'girlfriend': 2, 'Mexican': 3, 'realize': 2, 'went': 1, 'labor': 1, 'broke': 1, 'water': 1, 'candy': 1, 'fell': 1, 'Indian': 1, 'engineer': 1, 'wall': 1, 'hop': 1, 'steal': 1, 'laptop': 1, 'fix': 1, 'kids': 1, '22': 2, '19.RUSSELL': 1, 'PETERS': 1, '19': 1, 'young': 1, 'crazy': 2, 'mean': 1, 'late': 2, '49': 1, 'starts': 2, 'walking': 7, 'waited': 1, 'remember': 3, 'pregnancy': 2, 'clearly': 1, 'months': 2, 'took': 2, 'Probably': 1, 'usually': 1, 'month': 1, 'motherfuckers': 1, 'straight': 2, 'doctor': 2, 'heartbeats': 2, 'hear': 3, 'scared': 1, 'twins': 1, 'age': 1, 'seat': 1, 'Tom': 1, 'say?[audience': 1, 'laughs]What': 1, 'White': 1, 'racial': 2, 'slurs': 1, 'laughs': 8, 'rip': 1, 'Cracker': 1, 'mick': 1, 'kraut': 1, 'polack': 1, 'frog': 1, 'guinea': 2, 'wop': 1, 'honky': 5, 'fun': 2, 'white': 2, 'Wait': 1, 'saying': 2, '-That': 1, 'exactly': 1, '-[audience': 1, 'cares': 1, 'Italian': 1, 'tomorrow': 1, 'care': 2, 'historically': 1, 'disenfranchised': 1, 'slur': 1, 'word': 4, 'hilarious': 2, 'reason': 1, 'truly': 1, 'racist': 2, 'latched': 1, 'indicator': 1, 'offensive': 1, 'okay': 3, 'news': 2, 'fight': 1, 'find': 1, 'hillbilly': 1, 'happened': 2, 'pass': 1, 'laughing': 13, 'hysterically': 1, 'stabbed': 1, 'pay': 2, 'thought': 3, 'York': 4, 'came': 2, 'city': 2, 'getting': 1, 'street': 1, 'taxi': 2, 'rolling': 1, 'slamming': 1, 'hood': 4, 'accent': 1, 'coffee': 1, 'meant': 1, 'gon': 1, 'na': 1, 'City': 1, 'car': 5, 'dream': 2, 'set': 1, 'harder': 1, 'movies': 1, 'simple': 1, 'hits': 1, 'Slam': 1, 'easy': 1, 'timing': 2, 'precise': 1, 'exact': 2, 'stops': 2, 'hit': 2, 'guts': 1, 'come': 5, 'gone': 1, 'waste': 1, 'mad': 1, 'imitates': 2, 'engine': 1, 'revving': 1, 'pointless': 1, 'thumping': 1, 'noises': 1, 'worst': 1, 'early': 1, 'awkward': 1, 'involved': 1, 'reach': 1, 'tires': 1, 'screeching': 1, 'Come': 3, 'closer': 2, 'secret': 1, 'Africa': 1, '\\xa0\\n\\n ': 1, 'friends': 1, 'turns': 1, 'slavery': 1, 'Holocaust': 1, 'conversation': 1, 'Trump': 1, 'Hitler': 5, 'said': 9, 'social': 1, 'media': 1, 'fair': 1, 'strong': 1, 'Twitter': 1, 'presence': 1, 'Trapped': 1, 'bunker': 1, 'sad': 1, 'Adolf': 1, 'trending': 1, 'article': 1, 'internet': 1, 'facts': 1, 'title': 1, 'upbeat': 1, 'pieces': 1, 'Fuhrer': 1, 'Fun': 1, 'fact': 1, 'income': 1, 'tax': 1, 'managing': 1, 'money': 1, 'helped': 1, 'Jews': 1, 'Naples': 4, 'Florida': 2, 'Terrible': 1, 'bombed': 1, 'nights': 1, 'argument': 1, '80': 1, 'year': 1, 'breakdown': 1, 'casket': 1, 'soon': 1, 'kept': 1, 'escalating': 1, 'forth': 1, 'Finally': 1, 'voice': 1, 'crowd': 2, 'yell': 1, 'Grandpa': 1, 'dad': 2, 'check': 1, 'jokes': 1, 'taking': 1, 'abroad': 1, 'Pops': 1, 'True': 1, 'stage': 1, 'bit': 1, 'Jew': 1, 'yes': 1, 'heritage': 1, 'ugh': 1, 'sound': 1, 'cultural': 1, 'appropriation': 1}\n"
          ]
        }
      ]
    },
    {
      "cell_type": "code",
      "source": [
        "max_frequency=max(word_frequencies.values())\n",
        "for word in word_frequencies.keys():\n",
        "    word_frequencies[word]=word_frequencies[word]/max_frequency"
      ],
      "metadata": {
        "id": "PjxaRdm94dqC"
      },
      "execution_count": null,
      "outputs": []
    },
    {
      "cell_type": "code",
      "source": [
        "print(word_frequencies)"
      ],
      "metadata": {
        "colab": {
          "base_uri": "https://localhost:8080/"
        },
        "id": "Tzb3mgpP4gER",
        "outputId": "5e11064f-e0d8-40fe-abeb-b4e6716dfba1"
      },
      "execution_count": null,
      "outputs": [
        {
          "output_type": "stream",
          "name": "stdout",
          "text": [
            "{'know': 0.2716049382716049, 'people': 0.08641975308641975, 'sexiest': 0.024691358024691357, 'Asian': 0.024691358024691357, 'men': 0.024691358024691357, 'got': 0.12345679012345678, 'body': 0.037037037037037035, 'hair': 0.024691358024691357, 'neck': 0.012345679012345678, 'like': 0.7283950617283951, 'making': 0.024691358024691357, 'love': 0.07407407407407407, 'dolphin': 0.024691358024691357, 'Oh': 0.04938271604938271, 'God': 0.14814814814814814, 'smooth': 0.012345679012345678, 'slip': 0.012345679012345678, 'slide': 0.012345679012345678, 'black': 0.012345679012345678, 'fish': 0.012345679012345678, 'Tilikum': 0.012345679012345678, 'bed': 0.06172839506172839, 'night': 0.012345679012345678, 'Ooh': 0.012345679012345678, 'wee': 0.012345679012345678, 'mess': 0.012345679012345678, 'Jewish': 0.012345679012345678, 'dude': 0.012345679012345678, 'fucked': 0.012345679012345678, 'red': 0.012345679012345678, 'inflamed': 0.012345679012345678, '“': 1.0, 'ask': 0.012345679012345678, 'exfoliated': 0.012345679012345678, 'today': 0.012345679012345678, '”': 0.691358024691358, 'time': 0.12345679012345678, 'J': 0.012345679012345678, 'date': 0.024691358024691357, 'loofah': 0.012345679012345678, 'Thanks': 0.012345679012345678, 'rug': 0.012345679012345678, 'burn': 0.012345679012345678, 'Avi': 0.012345679012345678, 'odor': 0.012345679012345678, 'smell': 0.012345679012345678, 'responsibility': 0.012345679012345678, 'umami': 0.012345679012345678, 'flavor': 0.012345679012345678, 'comes': 0.012345679012345678, 'Strange': 0.012345679012345678, 'passage': 0.012345679012345678, 'old': 0.06172839506172839, '35': 0.012345679012345678, 'new': 0.024691358024691357, 'phase': 0.012345679012345678, 'right': 0.09876543209876543, 'called': 0.04938271604938271, 'gross': 0.04938271604938271, '”I': 0.024691358024691357, 'knew': 0.024691358024691357, 'damp': 0.04938271604938271, 'later': 0.012345679012345678, 'chuckles': 0.012345679012345678, 'Like': 0.037037037037037035, 'slick': 0.012345679012345678, 'butt': 0.012345679012345678, 'pants': 0.012345679012345678, 'little': 0.037037037037037035, 'lot': 0.024691358024691357, 'think': 0.1111111111111111, '…': 0.14814814814814814, 'sitting': 0.024691358024691357, 'restaurant': 0.012345679012345678, 'sit': 0.024691358024691357, 'talking': 0.04938271604938271, 'burps': 0.012345679012345678, 'kid': 0.037037037037037035, 'wanted': 0.012345679012345678, 'burp': 0.012345679012345678, 'Silence': 0.012345679012345678, 'Blagh': 0.012345679012345678, 'trying': 0.024691358024691357, 'push': 0.012345679012345678, '’em': 0.04938271604938271, 'muscle': 0.012345679012345678, 'dinner': 0.012345679012345678, 'bread': 0.012345679012345678, 'seltzer': 0.012345679012345678, 'filling': 0.012345679012345678, 'hot': 0.012345679012345678, 'air': 0.024691358024691357, 'balloon': 0.012345679012345678, 'belches': 0.024691358024691357, 'going': 0.1728395061728395, 'Italy': 0.024691358024691357, 'travel': 0.024691358024691357, '–': 0.08641975308641975, 'agent': 0.012345679012345678, 'exhales': 0.012345679012345678, 'kitchen': 0.024691358024691357, 'need': 0.037037037037037035, 'pause': 0.012345679012345678, 'John': 0.012345679012345678, 'shoulders': 0.012345679012345678, 'joke': 0.024691358024691357, 'hate': 0.024691358024691357, 'shit': 0.07407407407407407, '\\n\\n ': 0.037037037037037035, 'adult': 0.012345679012345678, 'finally': 0.024691358024691357, 'favorite': 0.037037037037037035, 'TV': 0.024691358024691357, 'Fixer': 0.024691358024691357, 'Upper': 0.024691358024691357, 'HGTV': 0.012345679012345678, 'greatest': 0.012345679012345678, 'guys': 0.06172839506172839, 'watch': 0.04938271604938271, 'Chip': 0.024691358024691357, 'Joanna': 0.037037037037037035, 'Gaines': 0.012345679012345678, 'great': 0.08641975308641975, 'beautiful': 0.012345679012345678, 'relationship': 0.024691358024691357, 'interior': 0.012345679012345678, 'decorating': 0.012345679012345678, 'brings': 0.012345679012345678, 'furniture': 0.012345679012345678, 'makes': 0.037037037037037035, 'house': 0.04938271604938271, 'look': 0.1111111111111111, 'amazing': 0.024691358024691357, 'hires': 0.012345679012345678, 'Mexicans': 0.012345679012345678, 'symbiotic': 0.012345679012345678, 'American': 0.012345679012345678, 'nice': 0.09876543209876543, 'feel': 0.012345679012345678, 'good': 0.037037037037037035, 'aspiring': 0.012345679012345678, 'man': 0.07407407407407407, 'day': 0.09876543209876543, 'maybe': 0.037037037037037035, 'moved': 0.012345679012345678, 'Waco': 0.024691358024691357, 'Texas': 0.037037037037037035, 'life': 0.04938271604938271, 'open': 0.012345679012345678, 'concept': 0.012345679012345678, 'Shit': 0.012345679012345678, 'expensive': 0.012345679012345678, 'live': 0.024691358024691357, 'LA': 0.012345679012345678, 'frustrated': 0.012345679012345678, 'entry': 0.012345679012345678, 'level': 0.012345679012345678, 'job': 0.06172839506172839, 'having': 0.037037037037037035, 'looking': 0.012345679012345678, 'bedroom': 0.012345679012345678, 'acres': 0.012345679012345678, 'land': 0.012345679012345678, 'budget': 0.012345679012345678, '50,000': 0.024691358024691357, 'Bitch': 0.012345679012345678, 'buy': 0.012345679012345678, 'crack': 0.012345679012345678, 'Compton': 0.012345679012345678, 'wrong': 0.09876543209876543, 'real': 0.012345679012345678, 'question': 0.024691358024691357, 'raised': 0.012345679012345678, 'weirdo': 0.012345679012345678, 'stay': 0.012345679012345678, 'sexually': 0.012345679012345678, 'relevant': 0.012345679012345678, 'ice': 0.012345679012345678, 'cream': 0.012345679012345678, 'son': 0.037037037037037035, 'bitch': 0.012345679012345678, 'turn': 0.012345679012345678, 'way': 0.08641975308641975, 'turned': 0.012345679012345678, 'mother': 0.037037037037037035, 'loved': 0.012345679012345678, 'Yeah': 0.07407407407407407, 'dip': 0.012345679012345678, 'chance': 0.012345679012345678, 'feels': 0.012345679012345678, 'inappropriate': 0.012345679012345678, 'ta': 0.04938271604938271, 'spice': 0.012345679012345678, 'long': 0.024691358024691357, 'Sex': 0.012345679012345678, 'mix': 0.012345679012345678, 'tell': 0.06172839506172839, 'shoes': 0.07407407407407407, 'thing': 0.08641975308641975, 'anybody': 0.012345679012345678, 'high': 0.012345679012345678, 'heels': 0.012345679012345678, 'New': 0.06172839506172839, 'Balance': 0.012345679012345678, 'Asics': 0.012345679012345678, 'belong': 0.012345679012345678, 'threesome': 0.012345679012345678, 'stick': 0.012345679012345678, 'sexy': 0.012345679012345678, 'woman': 0.06172839506172839, 'naked': 0.04938271604938271, 'Man': 0.024691358024691357, 'able': 0.024691358024691357, 'pull': 0.012345679012345678, 'wearing': 0.024691358024691357, 'toddler': 0.012345679012345678, 'ran': 0.012345679012345678, 'away': 0.012345679012345678, 'changing': 0.024691358024691357, 'seen': 0.012345679012345678, 'run': 0.07407407407407407, 'Tiny': 0.012345679012345678, 'dick': 0.012345679012345678, 'flipping': 0.012345679012345678, 'hides': 0.012345679012345678, 'curtains': 0.012345679012345678, 'kind': 0.012345679012345678, 'forgot': 0.024691358024691357, 'dressed': 0.012345679012345678, 'medicine': 0.012345679012345678, 'sorry': 0.012345679012345678, 'morning': 0.08641975308641975, 'sex': 0.08641975308641975, '\\n\\n': 0.13580246913580246, 'audience': 0.2345679012345679, 'member': 0.012345679012345678, 'screams': 0.012345679012345678, 'wife': 0.012345679012345678, 'Let': 0.037037037037037035, 'want': 0.13580246913580246, 'start': 0.037037037037037035, 'referring': 0.012345679012345678, 'Frankly': 0.012345679012345678, 'hurtful': 0.012345679012345678, 'consider': 0.012345679012345678, 'eating': 0.012345679012345678, 'cereal': 0.012345679012345678, 'cock': 0.012345679012345678, 'blocked': 0.012345679012345678, 'Tony': 0.012345679012345678, 'Tiger': 0.012345679012345678, 'feeling': 0.037037037037037035, 'problem': 0.04938271604938271, 'breath': 0.024691358024691357, 'main': 0.012345679012345678, 'Morning': 0.012345679012345678, 'pretty': 0.037037037037037035, 'sure': 0.012345679012345678, 'doggy': 0.012345679012345678, 'style': 0.012345679012345678, 'invented': 0.012345679012345678, 'couple': 0.012345679012345678, '30': 0.024691358024691357, 'seconds': 0.012345679012345678, 'try': 0.012345679012345678, 'face': 0.024691358024691357, 'buried': 0.012345679012345678, 'pillow': 0.012345679012345678, 'better': 0.037037037037037035, 'lift': 0.012345679012345678, 'genitals': 0.012345679012345678, 'hide': 0.012345679012345678, 'nostrils': 0.012345679012345678, 'linens': 0.012345679012345678, 'Thank': 0.024691358024691357, 'friend': 0.037037037037037035, 'best': 0.024691358024691357, 'person': 0.037037037037037035, 'punch': 0.012345679012345678, '—': 0.16049382716049382, 'problems': 0.012345679012345678, 'pray': 0.024691358024691357, 'prays': 0.012345679012345678, 'Ugh': 0.024691358024691357, 'Fuck': 0.024691358024691357, 'business': 0.012345679012345678, '”You': 0.012345679012345678, 'applause': 0.012345679012345678, 'believe': 0.08641975308641975, ' ': 0.024691358024691357, '1,400': 0.012345679012345678, 'fucking': 0.06172839506172839, 'church': 0.012345679012345678, 'roller': 0.012345679012345678, 'skating': 0.012345679012345678, 'rink': 0.012345679012345678, 'Wednesday': 0.012345679012345678, 'happened?”I': 0.012345679012345678, 'conviction': 0.012345679012345678, 'suppose': 0.012345679012345678, 'reckon': 0.024691358024691357, 'ai': 0.024691358024691357, 'lord': 0.012345679012345678, 'hope': 0.037037037037037035, 'fuckin': 0.037037037037037035, '’': 0.037037037037037035, 'knees': 0.012345679012345678, '‘': 0.012345679012345678, 'Cause': 0.012345679012345678, 'bad': 0.06172839506172839, 'atheist': 0.012345679012345678, 'die': 0.037037037037037035, 'Aw': 0.024691358024691357, 'fuck': 0.037037037037037035, 'shitting': 0.012345679012345678, 'beard': 0.012345679012345678, 'Aww': 0.012345679012345678, 'Hey': 0.08641975308641975, 'dunno': 0.012345679012345678, 'yeah': 0.012345679012345678, 'Yep': 0.012345679012345678, '”Being': 0.012345679012345678, 'big': 0.024691358024691357, 'gives': 0.012345679012345678, 'comfort': 0.012345679012345678, 'stupid': 0.012345679012345678, 'end': 0.024691358024691357, 'seriously': 0.012345679012345678, 'disappointed': 0.012345679012345678, 'second': 0.012345679012345678, 'Seriously': 0.012345679012345678, 'Dumpster': 0.012345679012345678, 'Sorry': 0.024691358024691357, 'garbage': 0.037037037037037035, 'family': 0.012345679012345678, 'newest': 0.012345679012345678, 'started': 0.037037037037037035, 'act': 0.024691358024691357, 'movie': 0.037037037037037035, 'Normal': 0.012345679012345678, 'People': 0.012345679012345678, 'played': 0.012345679012345678, 'retarded': 0.04938271604938271, 'wants': 0.012345679012345678, 'normal': 0.012345679012345678, 'inspiring': 0.012345679012345678, 'actually': 0.012345679012345678, 'point': 0.037037037037037035, 'goes': 0.07407407407407407, 'character': 0.012345679012345678, 'wore': 0.012345679012345678, 'thick': 0.012345679012345678, 'glasses': 0.012345679012345678, 'talked': 0.012345679012345678, 'Elmer': 0.012345679012345678, 'Fudd': 0.012345679012345678, 'guy': 0.037037037037037035, 'runs': 0.024691358024691357, 'group': 0.04938271604938271, 'home': 0.024691358024691357, 'lives': 0.024691358024691357, 'says': 0.08641975308641975, 'Republican': 0.012345679012345678, 'conservative': 0.012345679012345678, 'liberal': 0.04938271604938271, 'lady': 0.024691358024691357, 'works': 0.024691358024691357, 'course': 0.012345679012345678, 'let': 0.012345679012345678, 'traffic': 0.012345679012345678, 'controller': 0.012345679012345678, 'available': 0.012345679012345678, 'meets': 0.012345679012345678, 'falls': 0.012345679012345678, 'story': 0.024691358024691357, 'married': 0.024691358024691357, 'Brr': 0.012345679012345678, 'baby': 0.012345679012345678, 'shut': 0.012345679012345678, 'swear': 0.012345679012345678, 'ends': 0.012345679012345678, 'hey': 0.012345679012345678, 'limit': 0.012345679012345678, 'guess': 0.012345679012345678, 'intense': 0.012345679012345678, 'girlfriend': 0.024691358024691357, 'Mexican': 0.037037037037037035, 'realize': 0.024691358024691357, 'went': 0.012345679012345678, 'labor': 0.012345679012345678, 'broke': 0.012345679012345678, 'water': 0.012345679012345678, 'candy': 0.012345679012345678, 'fell': 0.012345679012345678, 'Indian': 0.012345679012345678, 'engineer': 0.012345679012345678, 'wall': 0.012345679012345678, 'hop': 0.012345679012345678, 'steal': 0.012345679012345678, 'laptop': 0.012345679012345678, 'fix': 0.012345679012345678, 'kids': 0.012345679012345678, '22': 0.024691358024691357, '19.RUSSELL': 0.012345679012345678, 'PETERS': 0.012345679012345678, '19': 0.012345679012345678, 'young': 0.012345679012345678, 'crazy': 0.024691358024691357, 'mean': 0.012345679012345678, 'late': 0.024691358024691357, '49': 0.012345679012345678, 'starts': 0.024691358024691357, 'walking': 0.08641975308641975, 'waited': 0.012345679012345678, 'remember': 0.037037037037037035, 'pregnancy': 0.024691358024691357, 'clearly': 0.012345679012345678, 'months': 0.024691358024691357, 'took': 0.024691358024691357, 'Probably': 0.012345679012345678, 'usually': 0.012345679012345678, 'month': 0.012345679012345678, 'motherfuckers': 0.012345679012345678, 'straight': 0.024691358024691357, 'doctor': 0.024691358024691357, 'heartbeats': 0.024691358024691357, 'hear': 0.037037037037037035, 'scared': 0.012345679012345678, 'twins': 0.012345679012345678, 'age': 0.012345679012345678, 'seat': 0.012345679012345678, 'Tom': 0.012345679012345678, 'say?[audience': 0.012345679012345678, 'laughs]What': 0.012345679012345678, 'White': 0.012345679012345678, 'racial': 0.024691358024691357, 'slurs': 0.012345679012345678, 'laughs': 0.09876543209876543, 'rip': 0.012345679012345678, 'Cracker': 0.012345679012345678, 'mick': 0.012345679012345678, 'kraut': 0.012345679012345678, 'polack': 0.012345679012345678, 'frog': 0.012345679012345678, 'guinea': 0.024691358024691357, 'wop': 0.012345679012345678, 'honky': 0.06172839506172839, 'fun': 0.024691358024691357, 'white': 0.024691358024691357, 'Wait': 0.012345679012345678, 'saying': 0.024691358024691357, '-That': 0.012345679012345678, 'exactly': 0.012345679012345678, '-[audience': 0.012345679012345678, 'cares': 0.012345679012345678, 'Italian': 0.012345679012345678, 'tomorrow': 0.012345679012345678, 'care': 0.024691358024691357, 'historically': 0.012345679012345678, 'disenfranchised': 0.012345679012345678, 'slur': 0.012345679012345678, 'word': 0.04938271604938271, 'hilarious': 0.024691358024691357, 'reason': 0.012345679012345678, 'truly': 0.012345679012345678, 'racist': 0.024691358024691357, 'latched': 0.012345679012345678, 'indicator': 0.012345679012345678, 'offensive': 0.012345679012345678, 'okay': 0.037037037037037035, 'news': 0.024691358024691357, 'fight': 0.012345679012345678, 'find': 0.012345679012345678, 'hillbilly': 0.012345679012345678, 'happened': 0.024691358024691357, 'pass': 0.012345679012345678, 'laughing': 0.16049382716049382, 'hysterically': 0.012345679012345678, 'stabbed': 0.012345679012345678, 'pay': 0.024691358024691357, 'thought': 0.037037037037037035, 'York': 0.04938271604938271, 'came': 0.024691358024691357, 'city': 0.024691358024691357, 'getting': 0.012345679012345678, 'street': 0.012345679012345678, 'taxi': 0.024691358024691357, 'rolling': 0.012345679012345678, 'slamming': 0.012345679012345678, 'hood': 0.04938271604938271, 'accent': 0.012345679012345678, 'coffee': 0.012345679012345678, 'meant': 0.012345679012345678, 'gon': 0.012345679012345678, 'na': 0.012345679012345678, 'City': 0.012345679012345678, 'car': 0.06172839506172839, 'dream': 0.024691358024691357, 'set': 0.012345679012345678, 'harder': 0.012345679012345678, 'movies': 0.012345679012345678, 'simple': 0.012345679012345678, 'hits': 0.012345679012345678, 'Slam': 0.012345679012345678, 'easy': 0.012345679012345678, 'timing': 0.024691358024691357, 'precise': 0.012345679012345678, 'exact': 0.024691358024691357, 'stops': 0.024691358024691357, 'hit': 0.024691358024691357, 'guts': 0.012345679012345678, 'come': 0.06172839506172839, 'gone': 0.012345679012345678, 'waste': 0.012345679012345678, 'mad': 0.012345679012345678, 'imitates': 0.024691358024691357, 'engine': 0.012345679012345678, 'revving': 0.012345679012345678, 'pointless': 0.012345679012345678, 'thumping': 0.012345679012345678, 'noises': 0.012345679012345678, 'worst': 0.012345679012345678, 'early': 0.012345679012345678, 'awkward': 0.012345679012345678, 'involved': 0.012345679012345678, 'reach': 0.012345679012345678, 'tires': 0.012345679012345678, 'screeching': 0.012345679012345678, 'Come': 0.037037037037037035, 'closer': 0.024691358024691357, 'secret': 0.012345679012345678, 'Africa': 0.012345679012345678, '\\xa0\\n\\n ': 0.012345679012345678, 'friends': 0.012345679012345678, 'turns': 0.012345679012345678, 'slavery': 0.012345679012345678, 'Holocaust': 0.012345679012345678, 'conversation': 0.012345679012345678, 'Trump': 0.012345679012345678, 'Hitler': 0.06172839506172839, 'said': 0.1111111111111111, 'social': 0.012345679012345678, 'media': 0.012345679012345678, 'fair': 0.012345679012345678, 'strong': 0.012345679012345678, 'Twitter': 0.012345679012345678, 'presence': 0.012345679012345678, 'Trapped': 0.012345679012345678, 'bunker': 0.012345679012345678, 'sad': 0.012345679012345678, 'Adolf': 0.012345679012345678, 'trending': 0.012345679012345678, 'article': 0.012345679012345678, 'internet': 0.012345679012345678, 'facts': 0.012345679012345678, 'title': 0.012345679012345678, 'upbeat': 0.012345679012345678, 'pieces': 0.012345679012345678, 'Fuhrer': 0.012345679012345678, 'Fun': 0.012345679012345678, 'fact': 0.012345679012345678, 'income': 0.012345679012345678, 'tax': 0.012345679012345678, 'managing': 0.012345679012345678, 'money': 0.012345679012345678, 'helped': 0.012345679012345678, 'Jews': 0.012345679012345678, 'Naples': 0.04938271604938271, 'Florida': 0.024691358024691357, 'Terrible': 0.012345679012345678, 'bombed': 0.012345679012345678, 'nights': 0.012345679012345678, 'argument': 0.012345679012345678, '80': 0.012345679012345678, 'year': 0.012345679012345678, 'breakdown': 0.012345679012345678, 'casket': 0.012345679012345678, 'soon': 0.012345679012345678, 'kept': 0.012345679012345678, 'escalating': 0.012345679012345678, 'forth': 0.012345679012345678, 'Finally': 0.012345679012345678, 'voice': 0.012345679012345678, 'crowd': 0.024691358024691357, 'yell': 0.012345679012345678, 'Grandpa': 0.012345679012345678, 'dad': 0.024691358024691357, 'check': 0.012345679012345678, 'jokes': 0.012345679012345678, 'taking': 0.012345679012345678, 'abroad': 0.012345679012345678, 'Pops': 0.012345679012345678, 'True': 0.012345679012345678, 'stage': 0.012345679012345678, 'bit': 0.012345679012345678, 'Jew': 0.012345679012345678, 'yes': 0.012345679012345678, 'heritage': 0.012345679012345678, 'ugh': 0.012345679012345678, 'sound': 0.012345679012345678, 'cultural': 0.012345679012345678, 'appropriation': 0.012345679012345678}\n"
          ]
        }
      ]
    },
    {
      "cell_type": "code",
      "source": [
        "sentence_tokens= [sent for sent in doc.sents]\n",
        "print(sentence_tokens)"
      ],
      "metadata": {
        "colab": {
          "base_uri": "https://localhost:8080/"
        },
        "id": "qy3MA-JY4i0U",
        "outputId": "37f04baf-7509-4b72-90f8-a9ba62e0b223"
      },
      "execution_count": null,
      "outputs": [
        {
          "output_type": "stream",
          "name": "stdout",
          "text": [
            "[I don’t know why people don’t go for them., They’re the sexiest., Asian men are the sexiest., They got no body hair from the neck down., It’s like making love to a dolphin., Oh, my God., It’s so smooth, just like a slip and slide., Just black fish, Tilikum, all up in my bed every night, you know?, Ooh-wee., You mess with a Jewish dude and your body is all fucked up afterwards., It’s all red and inflamed and you’re like, “I did not ask to be exfoliated today.”, “This is the last time I go on J-date, more like loofah date., Thanks for the rug burn, Avi.”, And then Asian men, no body odor., None., They just smell like responsibility., That’s where the umami flavor comes from., Strange, the passage of time., I’m not that old., I’m 35, that is not old., But I am in a new phase right before old called “gross.”I, never knew about this, but I am now gross., I am damp all the time., I am damp now and I will be damp later., [chuckles] Like the back of a dolphin, my back., I am slick., The butt part of my pants is a little damp a lot, and I don’t think it’s anything serious… but isn’t it, though?, And… I’ll be sitting at a restaurant and I’ll get up and I’ll be like, “What did I sit in?”, And it was me., I’m gross now., I’ve been talking through burps., I never used to do this., When I was a kid, and I wanted to burp, I’d be like, “Silence!”, Blagh!, Now I’m trying to push ’em down and muscle through ’em., I’ll be at dinner, just doing the bread and the seltzer, filling up like a hot air balloon, and then I’m like…, [belches] “Did you say you were going to Italy?, Because we have a travel– She has a travel agent if– [exhales] I’m going to the kitchen, does anyone need anything?, From the… [belches] Anyone need anything?”, Just take a pause, John!, I’m gross., I have hair on my shoulders now., I don’t even have a joke for that., That’s how much I hate that shit.\n",
            "\n",
            " , I know I’m becoming an adult finally, because now my favorite TV show is Fixer Upper on HGTV., That’s the greatest show of all time., You guys watch it, Chip and Joanna Gaines, Fixer Upper?, It’s a great show, right?, It’s a great show., Like, it’s really a beautiful relationship., Joanna does all the interior decorating, and she brings in all the furniture and makes the house look amazing., And Chip just hires Mexicans to do everything for him., It’s the most symbiotic American relationship ever., And it’s a really nice show., It’s a feel-good show., It’s an aspiring show., You watch the show and you’re like, man, one day, maybe my house could look that nice– if I moved to Waco, Texas., If I just give up on my life and move to Waco, Texas, maybe I can have a new open concept kitchen., I don’t know about you guys., Shit is expensive where I live in LA., And I watch this show, and I just get frustrated., Because you get, like, these like, entry-level-job-having people in Texas., And they’re like, Joanna, we’re looking for a six bedroom house on three acres of land and our budget’s $50,000., Bitch, I can’t even buy a crack house in Compton for $50,000., He was like, “What is wrong with you?”, I’m like, “I don’t know what’s wrong with her?, “That’s the real question., “You raised this weirdo., “I’m trying to stay sexually relevant., “I would love an ice cream., “But that’s not what she’s into, “so sit down you son of a bitch.”, Didn’t turn her on at all, by the way., It turned her mother on., She loved it., She was like, “Yeah, give it to him., “I hate this dip shit.”, I think I have a chance with her mother, we’ll see, feels inappropriate., You gotta spice it up, though., We’ve been together a long time, you know?, Sex, you gotta mix it up., I’ll tell you what I like., I like shoes in bed, that’s my thing, anybody?, I’m talking like high heels, not New Balance or Asics., They gotta be something nice., I like shoes in bed because they don’t belong in bed., It’s like a threesome, like “You shouldn’t be here, “but stick around, I like where this is going, you know?”, That’s a sexy look on a woman, by the way, naked with shoes., Not a man., Man, we’re not quite able to pull that look off just yet., If I’m naked wearing shoes, I look like a toddler that ran away from his mother while she was changing him., You ever seen that when someone’s changing the kid and the kid makes a run for it?, He’s like, “No.”, Tiny dick flipping everywhere., He hides in the curtains., That’s me, you know?, I think it’s when a woman is naked wearing shoes, it’s kind of like, she’s like, “I forgot to get dressed.”, A man naked with shoes is like, “I forgot to take my medicine., “I don’t know what got into me, I’m sorry.”, I like morning sex, that’s my favorite sex, morning sex., First thing, right?\n",
            "\n",
            "[audience member screams]\n",
            "\n",
            ", Yeah, there you go., I love it, my wife doesn’t like it., I’m like, “Let’s have some morning sex.”, She’s like, “No, I want to start my day.”, Yeah, I want to start my day also., That’s what I was referring to., Frankly, it’s a little hurtful that you wouldn’t consider that part of your day., Then she’s just eating cereal., I just got cock blocked by Tony the Tiger., It’s not a great feeling., I think the problem with morning sex, morning breath., That’s the main problem., Morning breath I’m pretty sure is how doggy style sex got invented., There was a couple having sex first thing in the morning and then 30 seconds in the woman’s like, “Let’s try this with my face buried in the pillow., “That’ll be better., “We can still do it, I’ll just lift my genitals to you “and hide my nostrils in the linens., “Thank you for making the bed, by the way., “That’s really nice of you.”, Thank you guys very much, that’s it.\n",
            "\n",
            " , I have this friend, she’s the best person I know, but I sometimes want to punch her in the face because she’s so nice — because I’m not a good person., Like, I’ll tell her something I’m having problems with, and she’ll say, “I’m going to pray on that for you., ”I have a feeling when she prays, God’s like, “Ugh! Fuck!, This one makes me want to get out of the business., ”You guys think there’s a God?, How many — How many of you, by applause, believe there is a God., How many people?  , All right., About 30 out of 1,400., That’s nice., That’s nice., That shit’s over., It’s just fucking over., You go into a church, it’s like going to a roller skating rink on a Wednesday, it’s like… “This used to be something!, What happened?”I don’t know., I don’t think there’s a God., And that’s not a conviction., I just don’t suppose., I just — I just reckon there ain’t., I reckon there ain’t no lord., And because I don’t believe there’s a God, I fucking hope there’s not a God., I fuckin’ hope — Oh, please!  , If you don’t believe in God, you better fucking hope — you better get on your knees and pray., Please, God, don’t be., ‘Cause that’s a bad thing to be wrong about., That’s a bad wrong., You’re an atheist your whole life and you die and you’re like, “Aw, fuck!, Aw, you’re shitting — with a beard and everything., Fuck!, Aww… Hey,, I — I dunno…, Yeah,, yeah, I’m going., Yep., ”Being, wrong the other way is not a big problem., If you believe in God and you’re wrong, you don’t really have a problem., It gives you a little comfort during your stupid life., And then at the end, you’re just seriously disappointed for like a second — it’s the last feeling you get to have., You die, you’re like, “Nothing?, Seriously?, Nothing?”, “Yeah, just get in the Dumpster., Sorry.”, “Sorry, you’re just garbage now.”, If you don’t believe in God, that’s what you believe — that when you die, you’re just garbage., You are your family’s newest garbage., So he started to act, and he had a movie on TV called “Normal People,” where he played a retarded man who wants to live a normal life — it was very inspiring, actually., And at one point he goes to — he didn’t do, like, a big retarded character., He wore thick glasses, he talked like Elmer Fudd., That was the whole thing., So he goes up to the guy who runs the group home he lives in and he says, “I want to get a job.”, And the guys who runs it is like, you know, Republican, conservative., So he’s like, “You can get a job, you’re retarded!”, You know., But — but then there’s a liberal lady who works there and she says, “Of course he can get a job., He’s as good as anyone!”, So they let him get a job as an air traffic controller or whatever was available., And then… He meets a woman who’s also retarded, who lives at the group home., He falls in love with her., It’s a very nice love story., And he says, “We want to get married.”, And the guy says, “Brr!”, She says, “But they’re in love!”, So they get married., And then one day he says, “We want to have a baby.”, And the liberal lady says, “No fucking way.”, And they just shut them down right there., And that’s the end of the movie., I swear to God, that’s just how it ends., And the point of the movie is just, you know, hey, there’s a limit — like, that’s, I guess, what the point of it was., And that’s pretty intense., My girlfriend’s Mexican., And I didn’t realize how Mexican she was until she went into labor and they broke her water and candy fell out of her., Do you realize my son is Mexican and Indian?, He’s going to be able to engineer the wall., And hop it., He’s going to steal your laptop and fix it., It’s going to be an amazing thing to see., How old are your kids?, 22 and 19.RUSSELL PETERS: 22 and 19., Man, you did all this shit young., That’s crazy., I mean, that’s great., I did it way too late., You think about it, I’m 49., When my son starts walking, we’re going to be walking the same way., I waited too long., Do you remember your first pregnancy?, You remember it clearly?, Do you remember how many months it took you before you started to show?, Probably about four to six, maybe?, Yeah, it’s usually about that, right?, Four to six months on your first pregnancy, the woman starts to show., My girlfriend, she started the show after one month., It was like,., I’m like, what the fuck is going on?, How many?, How many?, How many motherfuckers are in there right now?, I took her straight to the doctor., I need to know many heartbeats you hear, doctor., How many heartbeats do you hear?, There was just one, but I got so scared., Because twins at this age, fuck that., So… You might be sitting in your seat now, going, “Tom, what can we still say?[audience laughs]What can we say?”, I’ll tell you what you can say., White racial slurs., [audience laughs], All of ’em., Let her rip., Cracker, mick, kraut, polack, frog, guinea, wop, honky., Have fun., [audience laughs], Say ’em all you want., And if you’re not white, and you’re going, “Wait, are you saying I can say those?”, -That’s exactly what I’m saying., -[audience laughs], Nobody cares., Call up your Italian friend tomorrow and be like, “Hey, you fuckin’ guinea.”, [audience laughs], And he’ll go, [laughs] “I don’t care., [audience laughs], I don’t give a shit.”, It’s not a historically disenfranchised group., The best slur of all, for me, I think, is honky., And I’ll tell you why., The word honky is hilarious… in and of itself., But for some reason, truly racist white people have latched onto that word., It’s like this great indicator to know if someone’s racist., If they act like that word is offensive, run, okay?, [audience laughs], You don’t believe me, watch the news., Next time there’s some racial fight in the news, they’ll find some hillbilly., “What happened?”, He’ll be like, “Well, he called me a honky.”, [audience laughs], And they’re like, “Did you pass out from laughing hysterically, or what happened next?”, He’s like, “No, I stabbed him.”, And you’re like, “Oh, shit., That’s fuckin’ crazy.”, I’ll pay you to call me a honky., I don’t care., It’s a great word.\n",
            "\n",
            " , That was all I thought New York was before I came here., I just thought it was a city of people almost getting run over., Just everyone walking into the street, a taxi rolling up, slamming the hood,\n",
            "\n",
            "[New York accent] “I’m walking over here!, What’s wrong with you?, You want some coffee?”\n",
            "\n",
            "I don’t even know what that meant., All I knew was one day, I was gonna go to New York City., And I, too, was going to almost get run over by a car., I had a dream and I set out., And it’s a lot harder than it seems., In the movies, they make it look simple., They make it look like you run out, the car almost hits you, you do that thing– “Hey!”, Slam the hood and then move on., But it’s not that easy., It’s all about timing., It’s all about timing., It’s all about being precise., You have to get out at the exact same time that the taxi is there, so it stops, so you can hit the hood., If you don’t have the guts and you come out too late, the car’s gone., It’s a waste of everyone’s time., You just look like a mad person now., You’re just like…\n",
            "\n",
            "[imitates engine revving]\n",
            "\n",
            "“Hey!, I’m walking over here!”, If you come out at the exact time as the car, then you just get run over., That’s just pointless., You know, it’s like, “Hey–” [thumping noises] “Hey, he was walking over here., What’s wrong with you?”, The worst one is when you come out too early., Because that’s just awkward for everyone involved., Because you come out and then the car stops, but you can’t reach the hood., So it’s like, “Hey!”\n",
            "\n",
            ", [imitates tires screeching]\n",
            "\n",
            "“Come here., No. Come closer, please., I want to tell you a secret., Come here., No, I’m from Africa., I have a dream., Please come closer., I just– I just want you– I’m walking over here.” \n",
            "\n",
            " , I’m a pretty liberal guy, but some of my friends now are so liberal that everything turns into slavery or the Holocaust in every conversation, you know what I’m talking about?, I was talking to my friend the other day, and he goes, “Trump is Hitler.”, I said, “All right, look, “we don’t know how hilarious Hitler would have been “on social media., “That’s not fair.”, Hitler might have had a strong Twitter presence., Trapped in bunker, sad., (audience laughing), Adolf’s trending.\n",
            "\n",
            ", I came across the article the other day on the internet., Just said fun facts about Hitler, which I think is a great title., (audience laughing), I’ve always said there aren’t enough upbeat pieces on the Fuhrer., (audience laughing), Fun fact about Hitler, didn’t pay income tax, was very bad at managing his money, and I thought, man, it’s too bad there wasn’t a group of people that could have helped, you know?, (audience laughing) Jews., So…\n",
            "\n",
            "You know where that joke did not hit?, Naples, Florida, okay?, (audience laughing), Terrible people., My least favorite city., I’ll never go back., I bombed four straight nights., I got into an argument with an 80-something-year-old man., I had a breakdown on the last show., I finally just said I gotta get out of Naples., He goes, “Well, you’re still here.”, I said, “Well, I’ll be out in the morning., “You’ll be in a casket soon.”, (audience laughing), And he said, “You’ll have to put me there,” and I said, “That’s not how time works.”, (audience laughing), And it kept escalating back and forth., Finally, I hear a voice in the crowd yell out, “Grandpa, enough.”, (audience laughing), That’s Naples to me., My dad called me to check in., He said, “How are you?”, I said, “I’m in fucking Naples,” and my dad goes, “Italy?”, and I was like, “Oh, no., (audience laughing), “These jokes are not taking me abroad, Pops., (audience laughing) “I’m in Florida, the bad part.”\n",
            "\n",
            ", True story., I’m on stage there., As the start to a bit, I go, “So, I’m a New York Jew,” and someone in the crowd goes, “Ugh, no.”, (audience laughing), Not a yes or no question., (audience laughing), It’s my heritage., Also, ugh, that’s our sound., That’s cultural appropriation, okay?]\n"
          ]
        }
      ]
    },
    {
      "cell_type": "code",
      "source": [
        "sentence_scores = {}\n",
        "for sent in sentence_tokens:\n",
        "    for word in sent:\n",
        "        if word.text.lower() in word_frequencies.keys():\n",
        "            if sent not in sentence_scores.keys():\n",
        "             sentence_scores[sent]=word_frequencies[word.text.lower()]\n",
        "            else:\n",
        "             sentence_scores[sent]+=word_frequencies[word.text.lower()]"
      ],
      "metadata": {
        "id": "OGyp_2EI4kSN"
      },
      "execution_count": null,
      "outputs": []
    },
    {
      "cell_type": "code",
      "source": [
        "sentence_scores"
      ],
      "metadata": {
        "colab": {
          "base_uri": "https://localhost:8080/"
        },
        "id": "o8jzcIqQ4nl2",
        "outputId": "5716f0b1-3621-42ec-a9bf-f2fc2b4c9b25"
      },
      "execution_count": null,
      "outputs": [
        {
          "output_type": "execute_result",
          "data": {
            "text/plain": [
              "{I don’t know why people don’t go for them.: 0.35802469135802467,\n",
              " They’re the sexiest.: 0.024691358024691357,\n",
              " Asian men are the sexiest.: 0.04938271604938271,\n",
              " They got no body hair from the neck down.: 0.19753086419753085,\n",
              " It’s like making love to a dolphin.: 0.8518518518518519,\n",
              " It’s so smooth, just like a slip and slide.: 0.7654320987654322,\n",
              " Just black fish, Tilikum, all up in my bed every night, you know?: 0.37037037037037035,\n",
              " Ooh-wee.: 0.012345679012345678,\n",
              " You mess with a Jewish dude and your body is all fucked up afterwards.: 0.07407407407407407,\n",
              " It’s all red and inflamed and you’re like, “I did not ask to be exfoliated today.”: 2.481481481481482,\n",
              " “This is the last time I go on J-date, more like loofah date.: 1.9135802469135808,\n",
              " Thanks for the rug burn, Avi.”: 0.7160493827160493,\n",
              " And then Asian men, no body odor.: 0.07407407407407407,\n",
              " They just smell like responsibility.: 0.7530864197530864,\n",
              " That’s where the umami flavor comes from.: 0.037037037037037035,\n",
              " Strange, the passage of time.: 0.13580246913580246,\n",
              " I’m not that old.: 0.06172839506172839,\n",
              " I’m 35, that is not old.: 0.07407407407407407,\n",
              " But I am in a new phase right before old called “gross.”I: 1.2962962962962963,\n",
              " never knew about this, but I am now gross.: 0.07407407407407407,\n",
              " I am damp all the time.: 0.1728395061728395,\n",
              " I am damp now and I will be damp later.: 0.1111111111111111,\n",
              " [chuckles] Like the back of a dolphin, my back.: 0.7654320987654321,\n",
              " I am slick.: 0.012345679012345678,\n",
              " The butt part of my pants is a little damp a lot: 0.13580246913580246,\n",
              " and I don’t think it’s anything serious… but isn’t it, though?: 0.25925925925925924,\n",
              " And… I’ll be sitting at a restaurant and I’ll get up and I’ll be like, “What did I sit in?”: 2.6296296296296298,\n",
              " I’m gross now.: 0.04938271604938271,\n",
              " I’ve been talking through burps.: 0.06172839506172839,\n",
              " When I was a kid: 0.037037037037037035,\n",
              " and I wanted to burp, I’d be like, “Silence!”: 2.4444444444444446,\n",
              " Now I’m trying to push ’em down and muscle through ’em.: 0.14814814814814814,\n",
              " I’ll be at dinner, just doing the bread and the seltzer, filling up like a hot air balloon, and then I’m like…: 1.7037037037037035,\n",
              " [belches] “Did you say you were going to Italy?: 1.1975308641975309,\n",
              " Because we have a travel– She has a travel agent if– [exhales] I’m going to the kitchen, does anyone need anything?: 0.48148148148148145,\n",
              " From the… [belches] Anyone need anything?”: 0.9012345679012346,\n",
              " Just take a pause, John!: 0.012345679012345678,\n",
              " I’m gross.: 0.04938271604938271,\n",
              " I have hair on my shoulders now.: 0.037037037037037035,\n",
              " I don’t even have a joke for that.: 0.024691358024691357,\n",
              " That’s how much I hate that shit.\n",
              " \n",
              "  : 0.13580246913580246,\n",
              " I know I’m becoming an adult finally, because now my favorite TV show is Fixer Upper on HGTV.: 0.345679012345679,\n",
              " That’s the greatest show of all time.: 0.13580246913580246,\n",
              " You guys watch it, Chip and Joanna Gaines, Fixer Upper?: 0.1111111111111111,\n",
              " It’s a great show, right?: 0.18518518518518517,\n",
              " It’s a great show.: 0.08641975308641975,\n",
              " Like, it’s really a beautiful relationship.: 0.7654320987654321,\n",
              " Joanna does all the interior decorating, and she brings in all the furniture and makes the house look amazing.: 0.2716049382716049,\n",
              " And Chip just hires Mexicans to do everything for him.: 0.012345679012345678,\n",
              " It’s the most symbiotic American relationship ever.: 0.037037037037037035,\n",
              " And it’s a really nice show.: 0.09876543209876543,\n",
              " It’s a feel-good show.: 0.04938271604938271,\n",
              " It’s an aspiring show.: 0.012345679012345678,\n",
              " You watch the show and you’re like, man, one day, maybe my house could look that nice– if I moved to Waco, Texas.: 1.345679012345679,\n",
              " If I just give up on my life and move to Waco, Texas, maybe I can have a new open concept kitchen.: 0.16049382716049382,\n",
              " I don’t know about you guys.: 0.3333333333333333,\n",
              " Shit is expensive where I live in LA.: 0.1111111111111111,\n",
              " And I watch this show: 0.04938271604938271,\n",
              " and I just get frustrated.: 0.012345679012345678,\n",
              " Because you get, like, these like, entry-level-job-having people in Texas.: 1.6666666666666667,\n",
              " And they’re like, Joanna, we’re looking for a six bedroom house on three acres of land and our budget’s $50,000.: 0.8641975308641977,\n",
              " Bitch, I can’t even buy a crack house in Compton for $50,000.: 0.1111111111111111,\n",
              " He was like, “What is wrong with you?”: 2.5185185185185186,\n",
              " I’m like, “I don’t know what’s wrong with her?: 2.0987654320987654,\n",
              " “That’s the real question.: 1.0370370370370372,\n",
              " “You raised this weirdo.: 1.0246913580246915,\n",
              " “I’m trying to stay sexually relevant.: 1.0617283950617287,\n",
              " “I would love an ice cream.: 1.0987654320987654,\n",
              " “But that’s not what she’s into, “so sit down you son of a bitch.”: 2.7654320987654324,\n",
              " Didn’t turn her on at all, by the way.: 0.09876543209876543,\n",
              " It turned her mother on.: 0.04938271604938271,\n",
              " She loved it.: 0.012345679012345678,\n",
              " She was like, “Yeah, give it to him.: 1.740740740740741,\n",
              " “I hate this dip shit.”: 1.8024691358024691,\n",
              " I think I have a chance with her mother, we’ll see, feels inappropriate.: 0.18518518518518517,\n",
              " You gotta spice it up, though.: 0.18518518518518517,\n",
              " We’ve been together a long time, you know?: 0.41975308641975306,\n",
              " Sex, you gotta mix it up.: 0.2716049382716049,\n",
              " I’ll tell you what I like.: 0.7901234567901234,\n",
              " I like shoes in bed, that’s my thing, anybody?: 0.962962962962963,\n",
              " I’m talking like high heels, not New Balance or Asics.: 0.8271604938271605,\n",
              " They gotta be something nice.: 0.2716049382716049,\n",
              " I like shoes in bed because they don’t belong in bed.: 0.9382716049382718,\n",
              " It’s like a threesome, like “You shouldn’t be here, “but stick around, I like where this is going, you know?”: 5.345679012345679,\n",
              " That’s a sexy look on a woman, by the way, naked with shoes.: 0.3950617283950617,\n",
              " Not a man.: 0.07407407407407407,\n",
              " Man, we’re not quite able to pull that look off just yet.: 0.2222222222222222,\n",
              " If I’m naked wearing shoes, I look like a toddler that ran away from his mother while she was changing him.: 1.0864197530864197,\n",
              " You ever seen that when someone’s changing the kid and the kid makes a run for it?: 0.2222222222222222,\n",
              " He’s like, “No.”: 2.419753086419753,\n",
              " Tiny dick flipping everywhere.: 0.024691358024691357,\n",
              " He hides in the curtains.: 0.024691358024691357,\n",
              " That’s me, you know?: 0.2716049382716049,\n",
              " I think it’s when a woman is naked wearing shoes, it’s kind of like, she’s like, “I forgot to get dressed.”: 3.5185185185185186,\n",
              " A man naked with shoes is like, “I forgot to take my medicine.: 1.9629629629629632,\n",
              " “I don’t know what got into me, I’m sorry.”: 2.0987654320987654,\n",
              " I like morning sex, that’s my favorite sex, morning sex.: 1.1975308641975306,\n",
              " First thing, right?\n",
              " \n",
              " [audience member screams]\n",
              " : 0.7160493827160495,\n",
              " Yeah, there you go.: 0.012345679012345678,\n",
              " I love it, my wife doesn’t like it.: 0.8148148148148149,\n",
              " I’m like, “Let’s have some morning sex.”: 2.6049382716049383,\n",
              " She’s like, “No, I want to start my day.”: 2.691358024691358,\n",
              " Yeah, I want to start my day also.: 0.2839506172839506,\n",
              " That’s what I was referring to.: 0.012345679012345678,\n",
              " Frankly, it’s a little hurtful that you wouldn’t consider that part of your day.: 0.16049382716049382,\n",
              " Then she’s just eating cereal.: 0.024691358024691357,\n",
              " I just got cock blocked by Tony the Tiger.: 0.14814814814814814,\n",
              " It’s not a great feeling.: 0.12345679012345678,\n",
              " I think the problem with morning sex, morning breath.: 0.4444444444444444,\n",
              " That’s the main problem.: 0.06172839506172839,\n",
              " Morning breath I’m pretty sure is how doggy style sex got invented.: 0.4074074074074074,\n",
              " There was a couple having sex first thing in the morning and then 30 seconds in the woman’s like, “Let’s try this with my face buried in the pillow.: 2.2098765432098766,\n",
              " “That’ll be better.: 1.037037037037037,\n",
              " “We can still do it, I’ll just lift my genitals to you “and hide my nostrils in the linens.: 2.0617283950617287,\n",
              " “Thank you for making the bed, by the way.: 1.1728395061728396,\n",
              " “That’s really nice of you.”: 1.7901234567901234,\n",
              " Thank you guys very much, that’s it.\n",
              " \n",
              "  : 0.09876543209876543,\n",
              " I have this friend, she’s the best person I know, but I sometimes want to punch her in the face because she’s so nice — because I’m not a good person.: 0.8765432098765431,\n",
              " Like, I’ll tell her something I’m having problems with, and she’ll say, “I’m going to pray on that for you.: 2.037037037037037,\n",
              " ”I have a feeling when she prays, God’s like, “Ugh! Fuck!: 1.8271604938271604,\n",
              " This one makes me want to get out of the business.: 0.18518518518518517,\n",
              " ”You guys think there’s a God?: 0.1728395061728395,\n",
              " How many — How many of you, by applause, believe there is a God.: 0.25925925925925924,\n",
              " How many people?  : 0.1111111111111111,\n",
              " All right.: 0.09876543209876543,\n",
              " About 30 out of 1,400.: 0.037037037037037035,\n",
              " That’s nice.: 0.09876543209876543,\n",
              " That’s nice.: 0.09876543209876543,\n",
              " That shit’s over.: 0.07407407407407407,\n",
              " It’s just fucking over.: 0.06172839506172839,\n",
              " You go into a church, it’s like going to a roller skating rink on a Wednesday, it’s like… “This used to be something!: 2.8271604938271606,\n",
              " What happened?”I don’t know.: 0.2716049382716049,\n",
              " I don’t think there’s a God.: 0.1111111111111111,\n",
              " And that’s not a conviction.: 0.012345679012345678,\n",
              " I just don’t suppose.: 0.012345679012345678,\n",
              " I just — I just reckon there ain’t.: 0.20987654320987653,\n",
              " I reckon there ain’t no lord.: 0.06172839506172839,\n",
              " And because I don’t believe there’s a God, I fucking hope there’s not a God.: 0.18518518518518517,\n",
              " I fuckin’ hope — Oh, please!  : 0.2962962962962963,\n",
              " If you don’t believe in God, you better fucking hope — you better get on your knees and pray.: 0.4567901234567901,\n",
              " ‘Cause that’s a bad thing to be wrong about.: 0.25925925925925924,\n",
              " That’s a bad wrong.: 0.16049382716049382,\n",
              " You’re an atheist your whole life and you die and you’re like, “Aw, fuck!: 1.8641975308641976,\n",
              " Aw, you’re shitting — with a beard and everything.: 0.18518518518518517,\n",
              " Fuck!: 0.037037037037037035,\n",
              " Aww… Hey,: 0.16049382716049382,\n",
              " I — I dunno…: 0.32098765432098764,\n",
              " Yeah,: 0.012345679012345678,\n",
              " yeah, I’m going.: 0.18518518518518517,\n",
              " wrong the other way is not a big problem.: 0.25925925925925924,\n",
              " If you believe in God and you’re wrong, you don’t really have a problem.: 0.2345679012345679,\n",
              " It gives you a little comfort during your stupid life.: 0.12345679012345678,\n",
              " And then at the end, you’re just seriously disappointed for like a second — it’s the last feeling you get to have.: 0.9876543209876543,\n",
              " You die, you’re like, “Nothing?: 1.7654320987654322,\n",
              " Seriously?: 0.012345679012345678,\n",
              " Nothing?”: 0.691358024691358,\n",
              " “Yeah, just get in the Dumpster.: 1.0123456790123457,\n",
              " Sorry.”: 0.7037037037037037,\n",
              " “Sorry, you’re just garbage now.”: 1.7407407407407407,\n",
              " If you don’t believe in God, that’s what you believe — that when you die, you’re just garbage.: 0.4074074074074074,\n",
              " You are your family’s newest garbage.: 0.06172839506172839,\n",
              " So he started to act, and he had a movie on TV called “Normal People,” where he played a retarded man who wants to live a normal life — it was very inspiring, actually.: 2.3580246913580245,\n",
              " And at one point he goes to — he didn’t do, like, a big retarded character.: 1.08641975308642,\n",
              " He wore thick glasses, he talked like Elmer Fudd.: 0.7777777777777778,\n",
              " That was the whole thing.: 0.08641975308641975,\n",
              " So he goes up to the guy who runs the group home he lives in and he says, “I want to get a job.”: 2.2098765432098766,\n",
              " And the guys who runs it is like, you know, Republican, conservative.: 1.0987654320987654,\n",
              " So he’s like, “You can get a job, you’re retarded!”: 2.5308641975308643,\n",
              " You know.: 0.2716049382716049,\n",
              " But — but then there’s a liberal lady who works there and she says, “Of course he can get a job.: 1.4197530864197532,\n",
              " He’s as good as anyone!”: 0.728395061728395,\n",
              " So they let him get a job as an air traffic controller or whatever was available.: 0.13580246913580246,\n",
              " And then… He meets a woman who’s also retarded, who lives at the group home.: 0.37037037037037035,\n",
              " He falls in love with her.: 0.08641975308641975,\n",
              " It’s a very nice love story.: 0.19753086419753085,\n",
              " And he says, “We want to get married.”: 1.9382716049382713,\n",
              " And the guy says, “Brr!”: 1.8148148148148149,\n",
              " She says, “But they’re in love!”: 1.8518518518518516,\n",
              " So they get married.: 0.024691358024691357,\n",
              " And then one day he says, “We want to have a baby.”: 2.0246913580246915,\n",
              " And the liberal lady says, “No fucking way.”: 2.0,\n",
              " And they just shut them down right there.: 0.1111111111111111,\n",
              " And that’s the end of the movie.: 0.06172839506172839,\n",
              " I swear to God, that’s just how it ends.: 0.024691358024691357,\n",
              " And the point of the movie is just, you know, hey, there’s a limit — like, that’s, I guess, what the point of it was.: 1.3086419753086418,\n",
              " And that’s pretty intense.: 0.04938271604938271,\n",
              " My girlfriend’s Mexican.: 0.024691358024691357,\n",
              " And I didn’t realize how Mexican she was until she went into labor and they broke her water and candy fell out of her.: 0.09876543209876543,\n",
              " Do you realize my son is Mexican and Indian?: 0.06172839506172839,\n",
              " He’s going to be able to engineer the wall.: 0.2222222222222222,\n",
              " And hop it.: 0.012345679012345678,\n",
              " He’s going to steal your laptop and fix it.: 0.20987654320987653,\n",
              " It’s going to be an amazing thing to see.: 0.2839506172839506,\n",
              " How old are your kids?: 0.07407407407407407,\n",
              " 22 and 19.RUSSELL PETERS: 22 and 19.: 0.06172839506172839,\n",
              " Man, you did all this shit young.: 0.16049382716049382,\n",
              " That’s crazy.: 0.024691358024691357,\n",
              " I mean, that’s great.: 0.09876543209876543,\n",
              " I did it way too late.: 0.1111111111111111,\n",
              " You think about it, I’m 49.: 0.12345679012345678,\n",
              " When my son starts walking, we’re going to be walking the same way.: 0.49382716049382713,\n",
              " I waited too long.: 0.037037037037037035,\n",
              " Do you remember your first pregnancy?: 0.06172839506172839,\n",
              " You remember it clearly?: 0.04938271604938271,\n",
              " Do you remember how many months it took you before you started to show?: 0.12345679012345678,\n",
              " Probably about four to six, maybe?: 0.037037037037037035,\n",
              " Yeah, it’s usually about that, right?: 0.12345679012345678,\n",
              " Four to six months on your first pregnancy, the woman starts to show.: 0.13580246913580246,\n",
              " My girlfriend, she started the show after one month.: 0.07407407407407407,\n",
              " It was like,.: 0.7283950617283951,\n",
              " I’m like, what the fuck is going on?: 0.9382716049382717,\n",
              " How many motherfuckers are in there right now?: 0.1111111111111111,\n",
              " I took her straight to the doctor.: 0.07407407407407407,\n",
              " I need to know many heartbeats you hear, doctor.: 0.3950617283950617,\n",
              " How many heartbeats do you hear?: 0.06172839506172839,\n",
              " There was just one, but I got so scared.: 0.13580246913580246,\n",
              " Because twins at this age, fuck that.: 0.06172839506172839,\n",
              " So… You might be sitting in your seat now, going, “Tom, what can we still say?[audience laughs]What can we say?”: 2.0617283950617287,\n",
              " I’ll tell you what you can say.: 0.06172839506172839,\n",
              " White racial slurs.: 0.06172839506172839,\n",
              " [audience laughs]: 0.3333333333333333,\n",
              " All of ’em.: 0.04938271604938271,\n",
              " Let her rip.: 0.024691358024691357,\n",
              " Cracker, mick, kraut, polack, frog, guinea, wop, honky.: 0.14814814814814814,\n",
              " Have fun.: 0.024691358024691357,\n",
              " [audience laughs]: 0.3333333333333333,\n",
              " Say ’em all you want.: 0.18518518518518517,\n",
              " And if you’re not white, and you’re going, “Wait, are you saying I can say those?”: 1.9135802469135803,\n",
              " -That’s exactly what I’m saying.: 0.037037037037037035,\n",
              " -[audience laughs]: 0.1111111111111111,\n",
              " Nobody cares.: 0.012345679012345678,\n",
              " Call up your Italian friend tomorrow and be like, “Hey, you fuckin’ guinea.”: 2.580246913580247,\n",
              " [audience laughs]: 0.3333333333333333,\n",
              " And he’ll go, [laughs] “I don’t care.: 1.123456790123457,\n",
              " [audience laughs]: 0.3333333333333333,\n",
              " I don’t give a shit.”: 0.7654320987654321,\n",
              " It’s not a historically disenfranchised group.: 0.07407407407407407,\n",
              " The best slur of all, for me, I think, is honky.: 0.20987654320987653,\n",
              " And I’ll tell you why.: 0.06172839506172839,\n",
              " The word honky is hilarious… in and of itself.: 0.2839506172839506,\n",
              " But for some reason, truly racist white people have latched onto that word.: 0.2222222222222222,\n",
              " It’s like this great indicator to know if someone’s racist.: 1.123456790123457,\n",
              " If they act like that word is offensive, run, okay?: 0.925925925925926,\n",
              " [audience laughs]: 0.3333333333333333,\n",
              " You don’t believe me, watch the news.: 0.16049382716049382,\n",
              " Next time there’s some racial fight in the news, they’ll find some hillbilly.: 0.20987654320987653,\n",
              " “What happened?”: 1.7160493827160495,\n",
              " He’ll be like, “Well, he called me a honky.”: 2.5308641975308643,\n",
              " [audience laughs]: 0.3333333333333333,\n",
              " And they’re like, “Did you pass out from laughing hysterically, or what happened next?”: 2.6296296296296298,\n",
              " He’s like, “No, I stabbed him.”: 2.432098765432099,\n",
              " And you’re like, “Oh, shit.: 1.8024691358024691,\n",
              " That’s fuckin’ crazy.”: 0.7901234567901234,\n",
              " I’ll pay you to call me a honky.: 0.08641975308641975,\n",
              " I don’t care.: 0.024691358024691357,\n",
              " It’s a great word.\n",
              " \n",
              "  : 0.1728395061728395,\n",
              " That was all I thought New York was before I came here.: 0.08641975308641975,\n",
              " I just thought it was a city of people almost getting run over.: 0.2345679012345679,\n",
              " Just everyone walking into the street, a taxi rolling up, slamming the hood,\n",
              " \n",
              " [New York accent] “I’m walking over here!: 1.45679012345679,\n",
              " What’s wrong with you?: 0.09876543209876543,\n",
              " You want some coffee?”\n",
              " \n",
              " I don’t even know what that meant.: 1.259259259259259,\n",
              " All I knew was one day, I was gonna go to New York City.: 0.19753086419753085,\n",
              " And I, too, was going to almost get run over by a car.: 0.30864197530864196,\n",
              " I had a dream and I set out.: 0.037037037037037035,\n",
              " And it’s a lot harder than it seems.: 0.037037037037037035,\n",
              " In the movies, they make it look simple.: 0.13580246913580246,\n",
              " They make it look like you run out, the car almost hits you, you do that thing– “Hey!”: 2.8641975308641974,\n",
              " Slam the hood and then move on.: 0.04938271604938271,\n",
              " But it’s not that easy.: 0.012345679012345678,\n",
              " It’s all about timing.: 0.024691358024691357,\n",
              " It’s all about timing.: 0.024691358024691357,\n",
              " It’s all about being precise.: 0.012345679012345678,\n",
              " You have to get out at the exact same time that the taxi is there, so it stops, so you can hit the hood.: 0.2716049382716049,\n",
              " If you don’t have the guts and you come out too late, the car’s gone.: 0.1728395061728395,\n",
              " It’s a waste of everyone’s time.: 0.13580246913580246,\n",
              " You just look like a mad person now.: 0.8888888888888888,\n",
              " You’re just like…\n",
              " \n",
              " [imitates engine revving]\n",
              " \n",
              " “Hey!: 2.2098765432098766,\n",
              " I’m walking over here!”: 0.7777777777777777,\n",
              " If you come out at the exact time as the car, then you just get run over.: 0.345679012345679,\n",
              " That’s just pointless.: 0.012345679012345678,\n",
              " You know, it’s like, “Hey–” [thumping noises] “Hey, he was walking over here.: 3.9135802469135803,\n",
              " What’s wrong with you?”: 0.7901234567901234,\n",
              " The worst one is when you come out too early.: 0.08641975308641975,\n",
              " Because that’s just awkward for everyone involved.: 0.024691358024691357,\n",
              " Because you come out and then the car stops, but you can’t reach the hood.: 0.20987654320987653,\n",
              " So it’s like, “Hey!”\n",
              " : 2.5679012345679015,\n",
              " [imitates tires screeching]\n",
              " \n",
              " “Come here.: 1.2469135802469136,\n",
              " No. Come closer, please.: 0.08641975308641975,\n",
              " I want to tell you a secret.: 0.20987654320987653,\n",
              " Come here.: 0.06172839506172839,\n",
              " I have a dream.: 0.024691358024691357,\n",
              " Please come closer.: 0.08641975308641975,\n",
              " I just– I just want you– I’m walking over here.” \n",
              " \n",
              "  : 1.0987654320987654,\n",
              " I’m a pretty liberal guy, but some of my friends now are so liberal that everything turns into slavery or the Holocaust in every conversation, you know what I’m talking about?: 0.5432098765432098,\n",
              " I was talking to my friend the other day, and he goes, “Trump is Hitler.”: 1.9506172839506173,\n",
              " I said, “All right, look, “we don’t know how hilarious Hitler would have been “on social media.: 3.6419753086419755,\n",
              " “That’s not fair.”: 1.7037037037037037,\n",
              " Hitler might have had a strong Twitter presence.: 0.024691358024691357,\n",
              " Trapped in bunker, sad.: 0.024691358024691357,\n",
              " (audience laughing): 0.3950617283950617,\n",
              " Adolf’s trending.\n",
              " : 0.14814814814814814,\n",
              " I came across the article the other day on the internet.: 0.14814814814814814,\n",
              " Just said fun facts about Hitler, which I think is a great title.: 0.35802469135802467,\n",
              " (audience laughing): 0.3950617283950617,\n",
              " I’ve always said there aren’t enough upbeat pieces on the Fuhrer.: 0.13580246913580246,\n",
              " (audience laughing): 0.3950617283950617,\n",
              " Fun fact about Hitler, didn’t pay income tax, was very bad at managing his money, and I thought, man, it’s too bad there wasn’t a group of people that could have helped, you know?: 0.7654320987654321,\n",
              " (audience laughing) Jews.: 0.3950617283950617,\n",
              " So…\n",
              " \n",
              " You know where that joke did not hit?: 0.6049382716049383,\n",
              " Naples, Florida, okay?: 0.037037037037037035,\n",
              " (audience laughing): 0.3950617283950617,\n",
              " Terrible people.: 0.08641975308641975,\n",
              " My least favorite city.: 0.06172839506172839,\n",
              " I bombed four straight nights.: 0.04938271604938271,\n",
              " I got into an argument with an 80-something-year-old man.: 0.2962962962962963,\n",
              " I had a breakdown on the last show.: 0.012345679012345678,\n",
              " I finally just said I gotta get out of Naples.: 0.30864197530864196,\n",
              " He goes, “Well, you’re still here.”: 1.765432098765432,\n",
              " I said, “Well, I’ll be out in the morning.: 1.1975308641975309,\n",
              " “You’ll be in a casket soon.”: 1.7160493827160495,\n",
              " (audience laughing): 0.3950617283950617,\n",
              " And he said, “You’ll have to put me there,” and I said, “That’s not how time works.”: 3.7530864197530867,\n",
              " (audience laughing): 0.3950617283950617,\n",
              " And it kept escalating back and forth.: 0.037037037037037035,\n",
              " Finally, I hear a voice in the crowd yell out, “Grandpa, enough.”: 1.8024691358024691,\n",
              " (audience laughing): 0.3950617283950617,\n",
              " My dad called me to check in.: 0.08641975308641975,\n",
              " He said, “How are you?”: 1.8024691358024691,\n",
              " I said, “I’m in fucking Naples,” and my dad goes, “Italy?”: 3.654320987654321,\n",
              " and I was like, “Oh, no.: 1.7283950617283952,\n",
              " (audience laughing): 0.3950617283950617,\n",
              " “These jokes are not taking me abroad, Pops.: 1.0370370370370372,\n",
              " (audience laughing) “I’m in Florida, the bad part.”\n",
              " : 2.2839506172839505,\n",
              " True story.: 0.024691358024691357,\n",
              " I’m on stage there.: 0.012345679012345678,\n",
              " As the start to a bit, I go, “So, I’m a New York Jew,” and someone in the crowd goes, “Ugh, no.”: 3.567901234567901,\n",
              " (audience laughing): 0.3950617283950617,\n",
              " Not a yes or no question.: 0.037037037037037035,\n",
              " (audience laughing): 0.3950617283950617,\n",
              " It’s my heritage.: 0.012345679012345678,\n",
              " Also, ugh, that’s our sound.: 0.024691358024691357,\n",
              " That’s cultural appropriation, okay?: 0.06172839506172839}"
            ]
          },
          "metadata": {},
          "execution_count": 29
        }
      ]
    },
    {
      "cell_type": "code",
      "source": [
        "len(sentence_tokens)"
      ],
      "metadata": {
        "colab": {
          "base_uri": "https://localhost:8080/"
        },
        "id": "w_9mVxMW6od2",
        "outputId": "3f53c737-0837-4769-ba8c-8a39163a5f54"
      },
      "execution_count": null,
      "outputs": [
        {
          "output_type": "execute_result",
          "data": {
            "text/plain": [
              "355"
            ]
          },
          "metadata": {},
          "execution_count": 32
        }
      ]
    },
    {
      "cell_type": "code",
      "source": [
        "from heapq import nlargest\n",
        "select_length=int(len(sentence_tokens)*0.3)\n",
        "select_length\n",
        "summary=nlargest(select_length, sentence_scores,key=sentence_scores.get)\n",
        "summary"
      ],
      "metadata": {
        "colab": {
          "base_uri": "https://localhost:8080/"
        },
        "id": "Ek9GWMYy4rg1",
        "outputId": "b02512d4-3f38-4b15-a6c2-34f7eff6430d"
      },
      "execution_count": null,
      "outputs": [
        {
          "output_type": "execute_result",
          "data": {
            "text/plain": [
              "[It’s like a threesome, like “You shouldn’t be here, “but stick around, I like where this is going, you know?”,\n",
              " You know, it’s like, “Hey–” [thumping noises] “Hey, he was walking over here.,\n",
              " And he said, “You’ll have to put me there,” and I said, “That’s not how time works.”,\n",
              " I said, “I’m in fucking Naples,” and my dad goes, “Italy?”,\n",
              " I said, “All right, look, “we don’t know how hilarious Hitler would have been “on social media.,\n",
              " As the start to a bit, I go, “So, I’m a New York Jew,” and someone in the crowd goes, “Ugh, no.”,\n",
              " I think it’s when a woman is naked wearing shoes, it’s kind of like, she’s like, “I forgot to get dressed.”,\n",
              " They make it look like you run out, the car almost hits you, you do that thing– “Hey!”,\n",
              " You go into a church, it’s like going to a roller skating rink on a Wednesday, it’s like… “This used to be something!,\n",
              " “But that’s not what she’s into, “so sit down you son of a bitch.”,\n",
              " She’s like, “No, I want to start my day.”,\n",
              " And… I’ll be sitting at a restaurant and I’ll get up and I’ll be like, “What did I sit in?”,\n",
              " And they’re like, “Did you pass out from laughing hysterically, or what happened next?”,\n",
              " I’m like, “Let’s have some morning sex.”,\n",
              " Call up your Italian friend tomorrow and be like, “Hey, you fuckin’ guinea.”,\n",
              " So it’s like, “Hey!”\n",
              " ,\n",
              " So he’s like, “You can get a job, you’re retarded!”,\n",
              " He’ll be like, “Well, he called me a honky.”,\n",
              " He was like, “What is wrong with you?”,\n",
              " It’s all red and inflamed and you’re like, “I did not ask to be exfoliated today.”,\n",
              " and I wanted to burp, I’d be like, “Silence!”,\n",
              " He’s like, “No, I stabbed him.”,\n",
              " He’s like, “No.”,\n",
              " So he started to act, and he had a movie on TV called “Normal People,” where he played a retarded man who wants to live a normal life — it was very inspiring, actually.,\n",
              " (audience laughing) “I’m in Florida, the bad part.”\n",
              " ,\n",
              " There was a couple having sex first thing in the morning and then 30 seconds in the woman’s like, “Let’s try this with my face buried in the pillow.,\n",
              " So he goes up to the guy who runs the group home he lives in and he says, “I want to get a job.”,\n",
              " You’re just like…\n",
              " \n",
              " [imitates engine revving]\n",
              " \n",
              " “Hey!,\n",
              " I’m like, “I don’t know what’s wrong with her?,\n",
              " “I don’t know what got into me, I’m sorry.”,\n",
              " “We can still do it, I’ll just lift my genitals to you “and hide my nostrils in the linens.,\n",
              " So… You might be sitting in your seat now, going, “Tom, what can we still say?[audience laughs]What can we say?”,\n",
              " Like, I’ll tell her something I’m having problems with, and she’ll say, “I’m going to pray on that for you.,\n",
              " And then one day he says, “We want to have a baby.”,\n",
              " And the liberal lady says, “No fucking way.”,\n",
              " A man naked with shoes is like, “I forgot to take my medicine.,\n",
              " I was talking to my friend the other day, and he goes, “Trump is Hitler.”,\n",
              " And he says, “We want to get married.”,\n",
              " “This is the last time I go on J-date, more like loofah date.,\n",
              " And if you’re not white, and you’re going, “Wait, are you saying I can say those?”,\n",
              " You’re an atheist your whole life and you die and you’re like, “Aw, fuck!,\n",
              " She says, “But they’re in love!”,\n",
              " ”I have a feeling when she prays, God’s like, “Ugh! Fuck!,\n",
              " And the guy says, “Brr!”,\n",
              " “I hate this dip shit.”,\n",
              " And you’re like, “Oh, shit.,\n",
              " Finally, I hear a voice in the crowd yell out, “Grandpa, enough.”,\n",
              " He said, “How are you?”,\n",
              " “That’s really nice of you.”,\n",
              " You die, you’re like, “Nothing?,\n",
              " He goes, “Well, you’re still here.”,\n",
              " She was like, “Yeah, give it to him.,\n",
              " “Sorry, you’re just garbage now.”,\n",
              " and I was like, “Oh, no.,\n",
              " “What happened?”,\n",
              " “You’ll be in a casket soon.”,\n",
              " “That’s not fair.”,\n",
              " I’ll be at dinner, just doing the bread and the seltzer, filling up like a hot air balloon, and then I’m like…,\n",
              " Because you get, like, these like, entry-level-job-having people in Texas.,\n",
              " Just everyone walking into the street, a taxi rolling up, slamming the hood,\n",
              " \n",
              " [New York accent] “I’m walking over here!,\n",
              " But — but then there’s a liberal lady who works there and she says, “Of course he can get a job.,\n",
              " You watch the show and you’re like, man, one day, maybe my house could look that nice– if I moved to Waco, Texas.,\n",
              " And the point of the movie is just, you know, hey, there’s a limit — like, that’s, I guess, what the point of it was.,\n",
              " But I am in a new phase right before old called “gross.”I,\n",
              " You want some coffee?”\n",
              " \n",
              " I don’t even know what that meant.,\n",
              " [imitates tires screeching]\n",
              " \n",
              " “Come here.,\n",
              " [belches] “Did you say you were going to Italy?,\n",
              " I said, “Well, I’ll be out in the morning.,\n",
              " I like morning sex, that’s my favorite sex, morning sex.,\n",
              " “Thank you for making the bed, by the way.,\n",
              " And he’ll go, [laughs] “I don’t care.,\n",
              " It’s like this great indicator to know if someone’s racist.,\n",
              " “I would love an ice cream.,\n",
              " And the guys who runs it is like, you know, Republican, conservative.,\n",
              " I just– I just want you– I’m walking over here.” \n",
              " \n",
              "  ,\n",
              " And at one point he goes to — he didn’t do, like, a big retarded character.,\n",
              " If I’m naked wearing shoes, I look like a toddler that ran away from his mother while she was changing him.,\n",
              " “I’m trying to stay sexually relevant.,\n",
              " “That’s the real question.,\n",
              " “These jokes are not taking me abroad, Pops.,\n",
              " “That’ll be better.,\n",
              " “You raised this weirdo.,\n",
              " “Yeah, just get in the Dumpster.,\n",
              " And then at the end, you’re just seriously disappointed for like a second — it’s the last feeling you get to have.,\n",
              " I like shoes in bed, that’s my thing, anybody?,\n",
              " I like shoes in bed because they don’t belong in bed.,\n",
              " I’m like, what the fuck is going on?,\n",
              " If they act like that word is offensive, run, okay?,\n",
              " From the… [belches] Anyone need anything?”,\n",
              " You just look like a mad person now.,\n",
              " I have this friend, she’s the best person I know, but I sometimes want to punch her in the face because she’s so nice — because I’m not a good person.,\n",
              " And they’re like, Joanna, we’re looking for a six bedroom house on three acres of land and our budget’s $50,000.,\n",
              " It’s like making love to a dolphin.,\n",
              " I’m talking like high heels, not New Balance or Asics.,\n",
              " I love it, my wife doesn’t like it.,\n",
              " I’ll tell you what I like.,\n",
              " That’s fuckin’ crazy.”,\n",
              " What’s wrong with you?”,\n",
              " He wore thick glasses, he talked like Elmer Fudd.,\n",
              " I’m walking over here!”,\n",
              " It’s so smooth, just like a slip and slide.,\n",
              " [chuckles] Like the back of a dolphin, my back.,\n",
              " Like, it’s really a beautiful relationship.,\n",
              " I don’t give a shit.”,\n",
              " Fun fact about Hitler, didn’t pay income tax, was very bad at managing his money, and I thought, man, it’s too bad there wasn’t a group of people that could have helped, you know?,\n",
              " They just smell like responsibility.]"
            ]
          },
          "metadata": {},
          "execution_count": 30
        }
      ]
    },
    {
      "cell_type": "code",
      "source": [
        "final_summary=[word.text for word in summary]\n",
        "final_summary\n",
        "summary=''.join(final_summary)\n",
        "summary"
      ],
      "metadata": {
        "colab": {
          "base_uri": "https://localhost:8080/",
          "height": 162
        },
        "id": "3PqSmhuN4ujH",
        "outputId": "77f30df2-8afc-4645-bcf7-2e5c2b8f204b"
      },
      "execution_count": null,
      "outputs": [
        {
          "output_type": "execute_result",
          "data": {
            "text/plain": [
              "'It’s like a threesome, like “You shouldn’t be here, “but stick around, I like where this is going, you know?”You know, it’s like, “Hey–” [thumping noises] “Hey, he was walking over here.And he said, “You’ll have to put me there,” and I said, “That’s not how time works.”I said, “I’m in fucking Naples,” and my dad goes, “Italy?”I said, “All right, look, “we don’t know how hilarious Hitler would have been “on social media.As the start to a bit, I go, “So, I’m a New York Jew,” and someone in the crowd goes, “Ugh, no.”I think it’s when a woman is naked wearing shoes, it’s kind of like, she’s like, “I forgot to get dressed.”They make it look like you run out, the car almost hits you, you do that thing– “Hey!”You go into a church, it’s like going to a roller skating rink on a Wednesday, it’s like… “This used to be something!“But that’s not what she’s into, “so sit down you son of a bitch.”She’s like, “No, I want to start my day.”And… I’ll be sitting at a restaurant and I’ll get up and I’ll be like, “What did I sit in?”And they’re like, “Did you pass out from laughing hysterically, or what happened next?”I’m like, “Let’s have some morning sex.”Call up your Italian friend tomorrow and be like, “Hey, you fuckin’ guinea.”So it’s like, “Hey!”\\n\\nSo he’s like, “You can get a job, you’re retarded!”He’ll be like, “Well, he called me a honky.”He was like, “What is wrong with you?”It’s all red and inflamed and you’re like, “I did not ask to be exfoliated today.”and I wanted to burp, I’d be like, “Silence!”He’s like, “No, I stabbed him.”He’s like, “No.”So he started to act, and he had a movie on TV called “Normal People,” where he played a retarded man who wants to live a normal life — it was very inspiring, actually.(audience laughing) “I’m in Florida, the bad part.”\\n\\nThere was a couple having sex first thing in the morning and then 30 seconds in the woman’s like, “Let’s try this with my face buried in the pillow.So he goes up to the guy who runs the group home he lives in and he says, “I want to get a job.”You’re just like…\\n\\n[imitates engine revving]\\n\\n“Hey!I’m like, “I don’t know what’s wrong with her?“I don’t know what got into me, I’m sorry.”“We can still do it, I’ll just lift my genitals to you “and hide my nostrils in the linens.So… You might be sitting in your seat now, going, “Tom, what can we still say?[audience laughs]What can we say?”Like, I’ll tell her something I’m having problems with, and she’ll say, “I’m going to pray on that for you.And then one day he says, “We want to have a baby.”And the liberal lady says, “No fucking way.”A man naked with shoes is like, “I forgot to take my medicine.I was talking to my friend the other day, and he goes, “Trump is Hitler.”And he says, “We want to get married.”“This is the last time I go on J-date, more like loofah date.And if you’re not white, and you’re going, “Wait, are you saying I can say those?”You’re an atheist your whole life and you die and you’re like, “Aw, fuck!She says, “But they’re in love!””I have a feeling when she prays, God’s like, “Ugh! Fuck!And the guy says, “Brr!”“I hate this dip shit.”And you’re like, “Oh, shit.Finally, I hear a voice in the crowd yell out, “Grandpa, enough.”He said, “How are you?”“That’s really nice of you.”You die, you’re like, “Nothing?He goes, “Well, you’re still here.”She was like, “Yeah, give it to him.“Sorry, you’re just garbage now.”and I was like, “Oh, no.“What happened?”“You’ll be in a casket soon.”“That’s not fair.”I’ll be at dinner, just doing the bread and the seltzer, filling up like a hot air balloon, and then I’m like…Because you get, like, these like, entry-level-job-having people in Texas.Just everyone walking into the street, a taxi rolling up, slamming the hood,\\n\\n[New York accent] “I’m walking over here!But — but then there’s a liberal lady who works there and she says, “Of course he can get a job.You watch the show and you’re like, man, one day, maybe my house could look that nice– if I moved to Waco, Texas.And the point of the movie is just, you know, hey, there’s a limit — like, that’s, I guess, what the point of it was.But I am in a new phase right before old called “gross.”IYou want some coffee?”\\n\\nI don’t even know what that meant.[imitates tires screeching]\\n\\n“Come here.[belches] “Did you say you were going to Italy?I said, “Well, I’ll be out in the morning.I like morning sex, that’s my favorite sex, morning sex.“Thank you for making the bed, by the way.And he’ll go, [laughs] “I don’t care.It’s like this great indicator to know if someone’s racist.“I would love an ice cream.And the guys who runs it is like, you know, Republican, conservative.I just– I just want you– I’m walking over here.”\\xa0\\n\\n And at one point he goes to — he didn’t do, like, a big retarded character.If I’m naked wearing shoes, I look like a toddler that ran away from his mother while she was changing him.“I’m trying to stay sexually relevant.“That’s the real question.“These jokes are not taking me abroad, Pops.“That’ll be better.“You raised this weirdo.“Yeah, just get in the Dumpster.And then at the end, you’re just seriously disappointed for like a second — it’s the last feeling you get to have.I like shoes in bed, that’s my thing, anybody?I like shoes in bed because they don’t belong in bed.I’m like, what the fuck is going on?If they act like that word is offensive, run, okay?From the… [belches] Anyone need anything?”You just look like a mad person now.I have this friend, she’s the best person I know, but I sometimes want to punch her in the face because she’s so nice — because I’m not a good person.And they’re like, Joanna, we’re looking for a six bedroom house on three acres of land and our budget’s $50,000.It’s like making love to a dolphin.I’m talking like high heels, not New Balance or Asics.I love it, my wife doesn’t like it.I’ll tell you what I like.That’s fuckin’ crazy.”What’s wrong with you?”He wore thick glasses, he talked like Elmer Fudd.I’m walking over here!”It’s so smooth, just like a slip and slide.[chuckles] Like the back of a dolphin, my back.Like, it’s really a beautiful relationship.I don’t give a shit.”Fun fact about Hitler, didn’t pay income tax, was very bad at managing his money, and I thought, man, it’s too bad there wasn’t a group of people that could have helped, you know?They just smell like responsibility.'"
            ],
            "application/vnd.google.colaboratory.intrinsic+json": {
              "type": "string"
            }
          },
          "metadata": {},
          "execution_count": 31
        }
      ]
    },
    {
      "cell_type": "code",
      "source": [],
      "metadata": {
        "id": "6UdD1mqU4xWJ"
      },
      "execution_count": null,
      "outputs": []
    }
  ],
  "metadata": {
    "accelerator": "GPU",
    "colab": {
      "gpuType": "T4",
      "provenance": []
    },
    "kernelspec": {
      "display_name": "Python 3",
      "name": "python3"
    },
    "language_info": {
      "name": "python"
    }
  },
  "nbformat": 4,
  "nbformat_minor": 0
}